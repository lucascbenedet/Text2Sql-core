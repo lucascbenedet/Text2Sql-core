{
 "cells": [
  {
   "cell_type": "code",
   "execution_count": 88,
   "metadata": {},
   "outputs": [],
   "source": [
    "import os\n",
    "from openai import OpenAI\n",
    "from dotenv import load_dotenv\n",
    "import json\n",
    "import sqlite3\n",
    "from typing import List, Dict, Any\n",
    "import pandas as pd\n",
    "\n",
    "#textwrap\n",
    "import textwrap\n",
    "from IPython.display import display\n",
    "from IPython.display import Markdown"
   ]
  },
  {
   "cell_type": "code",
   "execution_count": 75,
   "metadata": {},
   "outputs": [],
   "source": [
    "# Load environment variables from .env file\n",
    "load_dotenv()\n",
    "\n",
    "# Get the API key from environment variable\n",
    "api_key = os.getenv(\"OPEN_AI_KEY\")\n",
    "\n",
    "# Create OpenAI client\n",
    "client_openai = OpenAI(api_key=api_key)\n",
    "\n",
    "# Define model\n",
    "model = \"gpt-4o-mini\""
   ]
  },
  {
   "cell_type": "code",
   "execution_count": 6,
   "metadata": {},
   "outputs": [],
   "source": [
    "def get_analysis(prompt, model=model, max_tokens=1000, temperature=0.1):\n",
    "  completion = client_openai.chat.completions.create(\n",
    "    model=model,\n",
    "    max_tokens=max_tokens,\n",
    "    temperature=temperature,\n",
    "    messages=[\n",
    "      {\"role\": \"user\", \"content\": f\"{prompt}\"}\n",
    "    ]\n",
    "  )\n",
    "  return completion.choices[0].message.content"
   ]
  },
  {
   "cell_type": "code",
   "execution_count": 36,
   "metadata": {},
   "outputs": [],
   "source": [
    "def json_to_sqlite_memory_table(data: List[Dict[str, Any]], table_name: str = \"data\") -> sqlite3.Connection:\n",
    "    \"\"\"\n",
    "    Creates an in-memory SQLite table from a JSON object (list of dictionaries).\n",
    "\n",
    "    Args:\n",
    "        data (List[Dict[str, Any]]): JSON data loaded into a Python list of dictionaries.\n",
    "        table_name (str): Name of the SQLite table to be created.\n",
    "\n",
    "    Returns:\n",
    "        sqlite3.Connection: SQLite connection object with the table created in memory.\n",
    "    \"\"\"\n",
    "    if not isinstance(data, list) or not all(isinstance(item, dict) for item in data):\n",
    "        raise ValueError(\"Input data must be a list of dictionaries.\")\n",
    "\n",
    "    # Infer schema from the first item\n",
    "    sample = data[0]\n",
    "    column_definitions = []\n",
    "    for key, value in sample.items():\n",
    "        if isinstance(value, int):\n",
    "            column_type = \"INTEGER\"\n",
    "        elif isinstance(value, float):\n",
    "            column_type = \"REAL\"\n",
    "        else:\n",
    "            column_type = \"TEXT\"\n",
    "        column_definitions.append(f'\"{key}\" {column_type}')\n",
    "\n",
    "    # Create in-memory SQLite database\n",
    "    conn = sqlite3.connect(\":memory:\")\n",
    "    cursor = conn.cursor()\n",
    "\n",
    "    # Create the table\n",
    "    columns_sql = \", \".join(column_definitions)\n",
    "    sql_command = f'CREATE TABLE \"{table_name}\" ({columns_sql})'\n",
    "    cursor.execute(sql_command)\n",
    "    print(sql_command)\n",
    "   \n",
    "    # Prepare insert statement\n",
    "    column_names = list(sample.keys())\n",
    "    placeholders = \", \".join(\"?\" for _ in column_names)\n",
    "    insert_sql = f'INSERT INTO \"{table_name}\" ({\", \".join(column_names)}) VALUES ({placeholders})'\n",
    "\n",
    "    # Insert data\n",
    "    for record in data:\n",
    "        values = tuple(record.get(col) for col in column_names)\n",
    "        cursor.execute(insert_sql, values)\n",
    "\n",
    "    conn.commit()\n",
    "    print(f\"Table '{table_name}' created in memory with {len(data)} rows.\")\n",
    "    return conn\n"
   ]
  },
  {
   "cell_type": "code",
   "execution_count": 97,
   "metadata": {},
   "outputs": [],
   "source": [
    "def run_and_print_query(conn: sqlite3.Connection, query: str):\n",
    "    \"\"\"\n",
    "    Executes a SQL query on a given SQLite connection and prints the results with column names.\n",
    "\n",
    "    Args:\n",
    "        conn (sqlite3.Connection): Active SQLite connection.\n",
    "        query (str): SQL query to execute.\n",
    "    \"\"\"\n",
    "    cursor = conn.cursor()\n",
    "    cursor.execute(query)\n",
    "\n",
    "    # Get column names\n",
    "    column_names = [description[0] for description in cursor.description]\n",
    "\n",
    "    # Fetch all rows\n",
    "    rows = cursor.fetchall()\n",
    "\n",
    "    # Print column headers\n",
    "    print(\" | \".join(column_names))\n",
    "    print(\"-\" * (len(column_names) * 15))\n",
    "\n",
    "    # Print rows\n",
    "    for row in rows:\n",
    "        print(\" | \".join(str(item) if item is not None else \"NULL\" for item in row))\n"
   ]
  },
  {
   "cell_type": "code",
   "execution_count": null,
   "metadata": {},
   "outputs": [],
   "source": [
    "def run_query(conn: sqlite3.Connection, query: str):\n",
    "    \"\"\"\n",
    "    Executes a SQL query on a given SQLite connection and prints the results with column names.\n",
    "\n",
    "    Args:\n",
    "        conn (sqlite3.Connection): Active SQLite connection.\n",
    "        query (str): SQL query to execute.\n",
    "    \"\"\"\n",
    "   pd.read_sql(query, conn)\n",
    "   #return df"
   ]
  },
  {
   "cell_type": "code",
   "execution_count": 100,
   "metadata": {},
   "outputs": [],
   "source": [
    "def to_markdown(text):\n",
    "  text = text.replace('•', '  *')\n",
    "  return Markdown(textwrap.indent(text, '> ', predicate=lambda _: True))"
   ]
  },
  {
   "cell_type": "code",
   "execution_count": 37,
   "metadata": {},
   "outputs": [
    {
     "name": "stdout",
     "output_type": "stream",
     "text": [
      "CREATE TABLE \"events\" (\"event_guid\" TEXT, \"date\" TEXT, \"type\" TEXT, \"description\" TEXT, \"crm_id\" INTEGER, \"email\" TEXT, \"ip_address\" TEXT, \"user_agent\" TEXT, \"bot\" INTEGER, \"mailshot_id\" INTEGER, \"condition_id\" INTEGER, \"condition_title\" TEXT, \"condition_subject\" TEXT, \"condition_from\" TEXT, \"template_id\" TEXT, \"template_title\" TEXT, \"template_link\" TEXT)\n",
      "Table 'events' created in memory with 100 rows.\n"
     ]
    }
   ],
   "source": [
    "# Table name\n",
    "table_name = 'events'\n",
    "\n",
    "# Load the JSON externally\n",
    "with open(\"input/events.json\", \"r\", encoding=\"utf-8\") as f:\n",
    "    json_data = json.load(f)\n",
    "\n",
    "# Pass the JSON to the function\n",
    "conn = json_to_sqlite_memory_table(json_data, table_name=table_name)"
   ]
  },
  {
   "cell_type": "code",
   "execution_count": 186,
   "metadata": {},
   "outputs": [
    {
     "name": "stdout",
     "output_type": "stream",
     "text": [
      "event_guid | date | type | description | crm_id | email | ip_address | user_agent | bot | mailshot_id | condition_id | condition_title | condition_subject | condition_from | template_id | template_title | template_link\n",
      "--------------------------------------------------\n",
      "2116test@kulea.ma | emopened | emdelivery\n",
      "28test@kulea.ma | emopened | emdelivery\n",
      "3111test@kulea.ma | emopened | emdelivery\n",
      "3237test@kulea.ma | emopened | emdelivery\n",
      "7676test@kulea.ma | emopened | emdelivery\n",
      "7676test@kulea.ma | emopened | emclickedlink\n",
      "andrew@kulea.ma | emopened | emdelivery\n",
      "andrew@kulea.ma | emopened | emdelivery\n",
      "andrew@kulea.ma | emopened | emclickedlink\n",
      "constantin@kulea.ma | emopened | emdelivery\n",
      "constantin@kulea.ma | emopened | emdelivery\n",
      "constantin@kulea.ma | emopened | emopened\n",
      "constantin@kulea.ma | emopened | emdelivery\n",
      "constantin@kulea.ma | emopened | emclickedlink\n",
      "steve.bircher@btinternet.com | emopened | emdelivery\n",
      "steve.bircher@btinternet.com | emopened | emopened\n",
      "steve@kulea.ma | emopened | emdelivery\n",
      "steve@kulea.ma | emopened | emopened\n",
      "steve@kulea.ma | emopened | emclickedlink\n",
      "steve@kulea.ma | emopened | emopened\n"
     ]
    }
   ],
   "source": [
    "# Create a cursor\n",
    "cursor = conn.cursor()\n",
    "\n",
    "# Example query: select people over 40\n",
    "#query = \"SELECT * FROM events\"\n",
    "#cursor.execute(query)\n",
    "\n",
    "# Fetch column names\n",
    "#column_names = [description[0] for description in cursor.description]\n",
    "\n",
    "# Fetch all results\n",
    "#results = cursor.fetchall()\n",
    "\n",
    "# Display with column names\n",
    "#print(\" | \".join(column_names))\n",
    "#print(\"-\" * 50)\n",
    "#for row in results:\n",
    "#    print(\" | \".join(str(value) for value in row))\n",
    "\n",
    "query = '''\n",
    "    SELECT events.email, type, \n",
    "           LAG(type) OVER (PARTITION BY events.email ORDER BY date) AS previous_type\n",
    "    FROM events, \n",
    "         (select email, count(*) as total from events group by email having count(*) > 1 ) as res\n",
    "    WHERE events.email = res.email\n",
    "'''\n",
    "\n",
    "query = '''\n",
    "   select * from (\n",
    "   SELECT email AS user_email, type AS current_event_type, \n",
    "     LAG(type) OVER (PARTITION BY email ORDER BY date) AS previous_event_type \n",
    "     FROM events) as res\n",
    "   where previous_event_type <> 'None' and current_event_type = 'emopened'\n",
    "'''\n",
    "cursor.execute(query)\n",
    "\n",
    "# Fetch all results\n",
    "results = cursor.fetchall()\n",
    "\n",
    "# Display with column names\n",
    "print(\" | \".join(column_names))\n",
    "print(\"-\" * 50)\n",
    "for row in results:\n",
    "    print(\" | \".join(str(value) for value in row))"
   ]
  },
  {
   "cell_type": "code",
   "execution_count": 19,
   "metadata": {},
   "outputs": [],
   "source": [
    "def get_table_schema(conn: sqlite3.Connection, table_name: str = \"data\"):\n",
    "    cursor = conn.cursor()\n",
    "    cursor.execute(f\"PRAGMA table_info('{table_name}')\")\n",
    "    schema_info = cursor.fetchall()\n",
    "\n",
    "    print(f\"Schema for table '{table_name}':\")\n",
    "    for col in schema_info:\n",
    "        col_id, name, col_type, notnull, default_value, pk = col\n",
    "        print(f\"- {name} ({col_type})\")\n"
   ]
  },
  {
   "cell_type": "code",
   "execution_count": null,
   "metadata": {},
   "outputs": [],
   "source": [
    "schema1 = get_table_schema(conn, table_name=table_name)\n",
    "schema1\n",
    "\n",
    "schema = 'CREATE TABLE \"events\" (\"event_guid\" TEXT, \"date\" TEXT, \"type\" TEXT, \"description\" TEXT, \"crm_id\" INTEGER, \"email\" TEXT, \"ip_address\" TEXT, \"user_agent\" TEXT, \"bot\" INTEGER, \"mailshot_id\" INTEGER, \"condition_id\" INTEGER, \"condition_title\" TEXT, \"condition_subject\" TEXT, \"condition_from\" TEXT, \"template_id\" TEXT, \"template_title\" TEXT, \"template_link\" TEXT)'\n",
    "schema\n",
    "\n",
    "schema = '''\n",
    "[\n",
    "  { \"name\": \"event_guid\", \"type\": \"str\", \"example_values\": null },\n",
    "  { \"name\": \"date\", \"type\": \"str\", \"example_values\": null },\n",
    "  { \"name\": \"type\", \"type\": \"str\", \"example_values\": [\"emopened\", \"emclickedlink\", \"emdelivery\"] },\n",
    "  { \"name\": \"description\", \"type\": \"str\", \"example_values\": null },\n",
    "  { \"name\": \"crm_id\", \"type\": \"int\", \"example_values\": null },\n",
    "  { \"name\": \"email\", \"type\": \"str\", \"example_values\": null },\n",
    "  { \"name\": \"ip_address\", \"type\": \"str\", \"example_values\": null },\n",
    "  { \"name\": \"user_agent\", \"type\": \"str\", \"example_values\": null },\n",
    "  { \"name\": \"bot\", \"type\": \"bool\", \"example_values\": [false, true] },\n",
    "  { \"name\": \"mailshot_id\", \"type\": \"int\", \"example_values\": null },\n",
    "  { \"name\": \"condition_id\", \"type\": \"int\", \"example_values\": null },\n",
    "  { \"name\": \"condition_title\", \"type\": \"str\", \"example_values\": [\n",
    "    \"Example 1\", \"Form Thank you - Kulea demo1\", \"Test2\", \"test run\",\n",
    "    \"Andrew Nicholson\", \"ccc\", \"eee\", \"Euro stagger unsubscribe test\", \"list-unsubscribe true\"\n",
    "  ]},\n",
    "  { \"name\": \"condition_subject\", \"type\": \"str\", \"example_values\": [\n",
    "    \"Please don't open yet\", \"Wild test with to data\", \"Mel milking it\", \n",
    "    \"Marketing automation that cuts through the noise\"\n",
    "  ]},\n",
    "  { \"name\": \"condition_from\", \"type\": \"str\", \"example_values\": [\n",
    "    \"andy@kulea.ma\", \"andrew@kulea.co.uk\", \"andrew@kulea.ma\", \n",
    "    \"roc@kulea.ma\", \"esther@kulea.ma\"\n",
    "  ]},\n",
    "  { \"name\": \"template_id\", \"type\": \"str\", \"example_values\": [\n",
    "    \"fa7cf62d-963e-41c2-abd1-2980a86e3ec4\", \n",
    "    \"e49af120-9a1f-4ab2-8a15-db58cad776b5\", \n",
    "    \"e4cf3f50-dc87-4bc0-9e15-2aa6c2cb5a7e\"\n",
    "  ]},\n",
    "  { \"name\": \"template_title\", \"type\": \"str\", \"example_values\": [\n",
    "    \"Test 1\", \"Wild.London\", \"Personal email\", \"Kulea branded email - Andrew\"\n",
    "  ]},\n",
    "  { \"name\": \"template_link\", \"type\": \"str\", \"example_values\": [\n",
    "    \"Test-1\", \"Wild-London\", \"Personal-email\", \"Kulea-branded-email-Andrew\"\n",
    "  ]}\n",
    "]\n",
    "'''"
   ]
  },
  {
   "cell_type": "code",
   "execution_count": 175,
   "metadata": {},
   "outputs": [
    {
     "data": {
      "text/plain": [
       "\"List all emails that opened an event and the previous event type they interacted with. \\nUse the LAG function. Also use the clausure WITH for the main query and after that filter \\nthe previous events column with different value from 'None'.\""
      ]
     },
     "execution_count": 175,
     "metadata": {},
     "output_type": "execute_result"
    }
   ],
   "source": [
    "query1 = 'How many email open events occurred?'\n",
    "query2 = 'List all email addresses that clicked on a link.'\n",
    "query3 = 'How many unique email addresses opened the email.?'\n",
    "query4 = 'Count how many times each type of event occurred.'\n",
    "query5 = 'Which email addresses generated more than one event?'\n",
    "query6 = 'What are the most relevant condiction ids?'\n",
    "query7 = 'What are the most relevant condiction ids and mailshot ids combined?'\n",
    "query8 = '''List all emails that opened an event and the previous event type they interacted with. \n",
    "Use the LAG function. Also use the clausure WITH for the main query and after that filter \n",
    "the previous events column with different value from 'None'.'''\n",
    "\n",
    "query = query8\n",
    "query"
   ]
  },
  {
   "cell_type": "code",
   "execution_count": 176,
   "metadata": {},
   "outputs": [
    {
     "data": {
      "text/plain": [
       "'Considering the database schema \\n[\\n  { \"name\": \"event_guid\", \"type\": \"str\", \"example_values\": null },\\n  { \"name\": \"date\", \"type\": \"str\", \"example_values\": null },\\n  { \"name\": \"type\", \"type\": \"str\", \"example_values\": [\"emopened\", \"emclickedlink\", \"emdelivery\"] },\\n  { \"name\": \"description\", \"type\": \"str\", \"example_values\": null },\\n  { \"name\": \"crm_id\", \"type\": \"int\", \"example_values\": null },\\n  { \"name\": \"email\", \"type\": \"str\", \"example_values\": null },\\n  { \"name\": \"ip_address\", \"type\": \"str\", \"example_values\": null },\\n  { \"name\": \"user_agent\", \"type\": \"str\", \"example_values\": null },\\n  { \"name\": \"bot\", \"type\": \"bool\", \"example_values\": [false, true] },\\n  { \"name\": \"mailshot_id\", \"type\": \"int\", \"example_values\": null },\\n  { \"name\": \"condition_id\", \"type\": \"int\", \"example_values\": null },\\n  { \"name\": \"condition_title\", \"type\": \"str\", \"example_values\": [\\n    \"Example 1\", \"Form Thank you - Kulea demo1\", \"Test2\", \"test run\",\\n    \"Andrew Nicholson\", \"ccc\", \"eee\", \"Euro stagger unsubscribe test\", \"list-unsubscribe true\"\\n  ]},\\n  { \"name\": \"condition_subject\", \"type\": \"str\", \"example_values\": [\\n    \"Please don\\'t open yet\", \"Wild test with to data\", \"Mel milking it\", \\n    \"Marketing automation that cuts through the noise\"\\n  ]},\\n  { \"name\": \"condition_from\", \"type\": \"str\", \"example_values\": [\\n    \"andy@kulea.ma\", \"andrew@kulea.co.uk\", \"andrew@kulea.ma\", \\n    \"roc@kulea.ma\", \"esther@kulea.ma\"\\n  ]},\\n  { \"name\": \"template_id\", \"type\": \"str\", \"example_values\": [\\n    \"fa7cf62d-963e-41c2-abd1-2980a86e3ec4\", \\n    \"e49af120-9a1f-4ab2-8a15-db58cad776b5\", \\n    \"e4cf3f50-dc87-4bc0-9e15-2aa6c2cb5a7e\"\\n  ]},\\n  { \"name\": \"template_title\", \"type\": \"str\", \"example_values\": [\\n    \"Test 1\", \"Wild.London\", \"Personal email\", \"Kulea branded email - Andrew\"\\n  ]},\\n  { \"name\": \"template_link\", \"type\": \"str\", \"example_values\": [\\n    \"Test-1\", \"Wild-London\", \"Personal-email\", \"Kulea-branded-email-Andrew\"\\n  ]}\\n]\\n and the table name events, \\nwrite an SQL query to answer the query: \"List all emails that opened an event and the previous event type they interacted with. \\nUse the LAG function. Also use the clausure WITH for the main query and after that filter \\nthe previous events column with different value from \\'None\\'.\". The generated queries must attribute an alias for \\neach column when is not used the column name. \\nIn the answer, present only the SQL query without any formatting or line breaks as a string, \\nwithout the \";\" character at the end and without the \"\" character'"
      ]
     },
     "execution_count": 176,
     "metadata": {},
     "output_type": "execute_result"
    }
   ],
   "source": [
    "prompt = f'''Considering the database schema {schema} and the table name {table_name}, \n",
    "write an SQL query to answer the query: \"{query}\". The generated queries must attribute an alias for \n",
    "each column when is not used the column name. \n",
    "In the answer, present only the SQL query without any formatting or line breaks as a string, \n",
    "without the \";\" character at the end and without the \"\\\" character'''\n",
    "prompt"
   ]
  },
  {
   "cell_type": "code",
   "execution_count": 177,
   "metadata": {},
   "outputs": [
    {
     "data": {
      "text/plain": [
       "\"WITH event_data AS (SELECT email, type, LAG(type) OVER (PARTITION BY email ORDER BY date) AS previous_event_type FROM events) SELECT email AS user_email, type AS current_event_type, previous_event_type AS previous_event FROM event_data WHERE previous_event_type IS NOT NULL AND previous_event_type <> 'None' AND current_event_type = 'emopened'\""
      ]
     },
     "execution_count": 177,
     "metadata": {},
     "output_type": "execute_result"
    }
   ],
   "source": [
    "response = get_analysis(prompt, model)\n",
    "response"
   ]
  },
  {
   "cell_type": "code",
   "execution_count": 178,
   "metadata": {},
   "outputs": [
    {
     "name": "stdout",
     "output_type": "stream",
     "text": [
      "user_email | current_event_type | previous_event\n",
      "---------------------------------------------\n",
      "2116test@kulea.ma | emopened | emdelivery\n",
      "28test@kulea.ma | emopened | emdelivery\n",
      "3111test@kulea.ma | emopened | emdelivery\n",
      "3237test@kulea.ma | emopened | emdelivery\n",
      "7676test@kulea.ma | emopened | emdelivery\n",
      "7676test@kulea.ma | emopened | emclickedlink\n",
      "andrew@kulea.ma | emopened | emdelivery\n",
      "andrew@kulea.ma | emopened | emdelivery\n",
      "andrew@kulea.ma | emopened | emclickedlink\n",
      "constantin@kulea.ma | emopened | emdelivery\n",
      "constantin@kulea.ma | emopened | emdelivery\n",
      "constantin@kulea.ma | emopened | emopened\n",
      "constantin@kulea.ma | emopened | emdelivery\n",
      "constantin@kulea.ma | emopened | emclickedlink\n",
      "steve.bircher@btinternet.com | emopened | emdelivery\n",
      "steve.bircher@btinternet.com | emopened | emopened\n",
      "steve@kulea.ma | emopened | emdelivery\n",
      "steve@kulea.ma | emopened | emopened\n",
      "steve@kulea.ma | emopened | emclickedlink\n",
      "steve@kulea.ma | emopened | emopened\n"
     ]
    }
   ],
   "source": [
    "run_and_print_query(conn, response)"
   ]
  },
  {
   "cell_type": "code",
   "execution_count": 111,
   "metadata": {},
   "outputs": [
    {
     "data": {
      "text/plain": [
       "'Based on the data set [{\\'event_guid\\': \\'e5a86505-3727-4bbe-b357-a8c8ab231111\\', \\'date\\': \\'20250425-224145\\', \\'type\\': \\'emopened\\', \\'description\\': \\'4294967869 isEmailSent: true\\', \\'crm_id\\': 4295002215, \\'email\\': \\'andrew@kulea.ma\\', \\'ip_address\\': \\'103.107.197.125\\', \\'user_agent\\': \\'Mozilla/5.0\\', \\'bot\\': False, \\'mailshot_id\\': 4294967869, \\'condition_id\\': 4294967860, \\'condition_title\\': \\'Example 1\\', \\'condition_subject\\': \"Please don\\'t open yet\", \\'condition_from\\': \\'andy@kulea.ma\\', \\'template_id\\': None, \\'template_title\\': \\'Test 1\\', \\'template_link\\': \\'Test-1\\'}, {\\'event_guid\\': \\'98c55d7e-5da8-45e7-9634-3127015913a3\\', \\'date\\': \\'20250424-214709\\', \\'type\\': \\'emopened\\', \\'description\\': \\'4294967869 isEmailSent: true\\', \\'crm_id\\': 4295002273, \\'email\\': \\'steve@kulea.ma\\', \\'ip_address\\': \\'172.224.227.3\\', \\'user_agent\\': \\'Mozilla/5.0\\', \\'bot\\': False, \\'mailshot_id\\': 4294967869, \\'condition_id\\': 4294967860, \\'condition_title\\': \\'Example 1\\', \\'condition_subject\\': \"Please don\\'t open yet\", \\'condition_from\\': \\'andy@kulea.ma\\', \\'template_id\\': None, \\'template_title\\': \\'Test 1\\', \\'template_link\\': \\'Test-1\\'}, {\\'event_guid\\': \\'9fa6dbcc-cf44-4f8c-b9ce-f4cc7455375a\\', \\'date\\': \\'20250424-160649\\', \\'type\\': \\'emopened\\', \\'description\\': \\'4294967869 isEmailSent: true\\', \\'crm_id\\': 4295002356, \\'email\\': \\'constantin@kulea.ma\\', \\'ip_address\\': \\'66.249.93.9\\', \\'user_agent\\': \\'Mozilla/5.0 (Windows NT 5.1; rv:11.0) Gecko Firefox/11.0 (via ggpht.com GoogleImageProxy)\\', \\'bot\\': False, \\'mailshot_id\\': 4294967869, \\'condition_id\\': 4294967860, \\'condition_title\\': \\'Example 1\\', \\'condition_subject\\': \"Please don\\'t open yet\", \\'condition_from\\': \\'andy@kulea.ma\\', \\'template_id\\': None, \\'template_title\\': \\'Test 1\\', \\'template_link\\': \\'Test-1\\'}, {\\'event_guid\\': \\'f76452aa-9d27-4f63-9461-d766aae67d33\\', \\'date\\': \\'20250424-120855\\', \\'type\\': \\'emopened\\', \\'description\\': \\'4294967869 isEmailSent: true\\', \\'crm_id\\': 4295002273, \\'email\\': \\'steve@kulea.ma\\', \\'ip_address\\': \\'89.37.64.11\\', \\'user_agent\\': \\'Mozilla/5.0\\', \\'bot\\': False, \\'mailshot_id\\': 4294967869, \\'condition_id\\': 4294967860, \\'condition_title\\': \\'Example 1\\', \\'condition_subject\\': \"Please don\\'t open yet\", \\'condition_from\\': \\'andy@kulea.ma\\', \\'template_id\\': None, \\'template_title\\': \\'Test 1\\', \\'template_link\\': \\'Test-1\\'}, {\\'event_guid\\': \\'cd012d69-b72b-4020-83d2-20fd01b6418b\\', \\'date\\': \\'20250424-120345\\', \\'type\\': \\'emclickedlink\\', \\'description\\': \\'https://mylinks.kulea.ma from shot 4294967869 isEmailSent: true\\', \\'crm_id\\': 4295002273, \\'email\\': \\'steve@kulea.ma\\', \\'ip_address\\': \\'89.37.64.11\\', \\'user_agent\\': \\'Mozilla/5.0 (Macintosh; Intel Mac OS X 10_15_7) AppleWebKit/605.1.15 (KHTML, like Gecko) Version/18.4 Safari/605.1.15\\', \\'bot\\': False, \\'mailshot_id\\': 4294967869, \\'condition_id\\': 4294967860, \\'condition_title\\': \\'Example 1\\', \\'condition_subject\\': \"Please don\\'t open yet\", \\'condition_from\\': \\'andy@kulea.ma\\', \\'template_id\\': None, \\'template_title\\': \\'Test 1\\', \\'template_link\\': \\'Test-1\\'}, {\\'event_guid\\': \\'c1837cff-e1c8-4760-a46b-d3a9bd800d17\\', \\'date\\': \\'20250424-120338\\', \\'type\\': \\'emopened\\', \\'description\\': \\'4294967869 isEmailSent: true\\', \\'crm_id\\': 4295002273, \\'email\\': \\'steve@kulea.ma\\', \\'ip_address\\': \\'89.37.64.11\\', \\'user_agent\\': \\'Mozilla/5.0 (Macintosh; Intel Mac OS X 10_15_7) AppleWebKit/605.1.15 (KHTML, like Gecko) Canary\\', \\'bot\\': False, \\'mailshot_id\\': 4294967869, \\'condition_id\\': 4294967860, \\'condition_title\\': \\'Example 1\\', \\'condition_subject\\': \"Please don\\'t open yet\", \\'condition_from\\': \\'andy@kulea.ma\\', \\'template_id\\': None, \\'template_title\\': \\'Test 1\\', \\'template_link\\': \\'Test-1\\'}, {\\'event_guid\\': \\'9b5a7fc1-74ac-48ba-b85c-236cbc5aaaad\\', \\'date\\': \\'20250424-120327\\', \\'type\\': \\'emclickedlink\\', \\'description\\': \\'https://mylinks.kulea.ma from shot 4294967869 isEmailSent: true\\', \\'crm_id\\': 4295004086, \\'email\\': \\'steve.bircher@btinternet.com\\', \\'ip_address\\': \\'89.37.64.11\\', \\'user_agent\\': \\'Mozilla/5.0 (Macintosh; Intel Mac OS X 10_15_7) AppleWebKit/605.1.15 (KHTML, like Gecko) Version/18.4 Safari/605.1.15\\', \\'bot\\': False, \\'mailshot_id\\': 4294967869, \\'condition_id\\': 4294967860, \\'condition_title\\': \\'Example 1\\', \\'condition_subject\\': \"Please don\\'t open yet\", \\'condition_from\\': \\'andy@kulea.ma\\', \\'template_id\\': None, \\'template_title\\': \\'Test 1\\', \\'template_link\\': \\'Test-1\\'}, {\\'event_guid\\': \\'df33ed9d-0397-41bc-b092-9e8dee46180b\\', \\'date\\': \\'20250424-120230\\', \\'type\\': \\'emclickedlink\\', \\'description\\': \\'https://mylinks.kulea.ma from shot 4294967869 isEmailSent: true\\', \\'crm_id\\': 4295002215, \\'email\\': \\'andrew@kulea.ma\\', \\'ip_address\\': \\'82.132.186.42\\', \\'user_agent\\': \\'Mozilla/5.0 (Macintosh; Intel Mac OS X 10_15_7) AppleWebKit/537.36 (KHTML, like Gecko) Chrome/135.0.0.0 Safari/537.36\\', \\'bot\\': False, \\'mailshot_id\\': 4294967869, \\'condition_id\\': 4294967860, \\'condition_title\\': \\'Example 1\\', \\'condition_subject\\': \"Please don\\'t open yet\", \\'condition_from\\': \\'andy@kulea.ma\\', \\'template_id\\': None, \\'template_title\\': \\'Test 1\\', \\'template_link\\': \\'Test-1\\'}, {\\'event_guid\\': \\'69a7a1b6-c30f-4de0-b7ab-7b8ca7da1e31\\', \\'date\\': \\'20250424-120214\\', \\'type\\': \\'emclickedlink\\', \\'description\\': \\'https://mylinks.kulea.ma from shot 4294967869 isEmailSent: true\\', \\'crm_id\\': 4295002215, \\'email\\': \\'andrew@kulea.ma\\', \\'ip_address\\': \\'82.132.186.42\\', \\'user_agent\\': \\'Mozilla/5.0 (Macintosh; Intel Mac OS X 10_15_7) AppleWebKit/537.36 (KHTML, like Gecko) Chrome/135.0.0.0 Safari/537.36\\', \\'bot\\': False, \\'mailshot_id\\': 4294967869, \\'condition_id\\': 4294967860, \\'condition_title\\': \\'Example 1\\', \\'condition_subject\\': \"Please don\\'t open yet\", \\'condition_from\\': \\'andy@kulea.ma\\', \\'template_id\\': None, \\'template_title\\': \\'Test 1\\', \\'template_link\\': \\'Test-1\\'}, {\\'event_guid\\': \\'ac478ba9-6612-436c-b9a9-bfc93ba56c58\\', \\'date\\': \\'20250424-120036\\', \\'type\\': \\'emclickedlink\\', \\'description\\': \\'https://mylinks.kulea.ma from shot 4294967869 isEmailSent: true\\', \\'crm_id\\': 4295002356, \\'email\\': \\'constantin@kulea.ma\\', \\'ip_address\\': \\'91.164.58.2\\', \\'user_agent\\': \\'Mozilla/5.0 (Macintosh; Intel Mac OS X 10.15; rv:136.0) Gecko/20100101 Firefox/136.0\\', \\'bot\\': False, \\'mailshot_id\\': 4294967869, \\'condition_id\\': 4294967860, \\'condition_title\\': \\'Example 1\\', \\'condition_subject\\': \"Please don\\'t open yet\", \\'condition_from\\': \\'andy@kulea.ma\\', \\'template_id\\': None, \\'template_title\\': \\'Test 1\\', \\'template_link\\': \\'Test-1\\'}, {\\'event_guid\\': \\'0dd36fe0-4494-480a-8b92-96580dfc2878\\', \\'date\\': \\'20250424-120016\\', \\'type\\': \\'emopened\\', \\'description\\': \\'4294967869 isEmailSent: true\\', \\'crm_id\\': 4295004086, \\'email\\': \\'steve.bircher@btinternet.com\\', \\'ip_address\\': \\'89.37.64.11\\', \\'user_agent\\': \\'Mozilla/5.0 (Macintosh; Intel Mac OS X 10_15_7) AppleWebKit/605.1.15 (KHTML, like Gecko) Canary\\', \\'bot\\': False, \\'mailshot_id\\': 4294967869, \\'condition_id\\': 4294967860, \\'condition_title\\': \\'Example 1\\', \\'condition_subject\\': \"Please don\\'t open yet\", \\'condition_from\\': \\'andy@kulea.ma\\', \\'template_id\\': None, \\'template_title\\': \\'Test 1\\', \\'template_link\\': \\'Test-1\\'}, {\\'event_guid\\': \\'76bce535-2c44-4cf6-8ce5-88b6611fb31d\\', \\'date\\': \\'20250424-120011\\', \\'type\\': \\'emopened\\', \\'description\\': \\'4294967869 isEmailSent: true\\', \\'crm_id\\': 4295004086, \\'email\\': \\'steve.bircher@btinternet.com\\', \\'ip_address\\': \\'89.37.64.11\\', \\'user_agent\\': \\'Mozilla/5.0 (Macintosh; Intel Mac OS X 10_15_7) AppleWebKit/605.1.15 (KHTML, like Gecko) Canary\\', \\'bot\\': False, \\'mailshot_id\\': 4294967869, \\'condition_id\\': 4294967860, \\'condition_title\\': \\'Example 1\\', \\'condition_subject\\': \"Please don\\'t open yet\", \\'condition_from\\': \\'andy@kulea.ma\\', \\'template_id\\': None, \\'template_title\\': \\'Test 1\\', \\'template_link\\': \\'Test-1\\'}, {\\'event_guid\\': \\'0514fd59-4bd8-49e7-b63a-f6559ad99ce3\\', \\'date\\': \\'20250424-115838\\', \\'type\\': \\'emopened\\', \\'description\\': \\'4294967869 isEmailSent: true\\', \\'crm_id\\': 4295002356, \\'email\\': \\'constantin@kulea.ma\\', \\'ip_address\\': \\'66.249.93.10\\', \\'user_agent\\': \\'Mozilla/5.0 (Windows NT 5.1; rv:11.0) Gecko Firefox/11.0 (via ggpht.com GoogleImageProxy)\\', \\'bot\\': False, \\'mailshot_id\\': 4294967869, \\'condition_id\\': 4294967860, \\'condition_title\\': \\'Example 1\\', \\'condition_subject\\': \"Please don\\'t open yet\", \\'condition_from\\': \\'andy@kulea.ma\\', \\'template_id\\': None, \\'template_title\\': \\'Test 1\\', \\'template_link\\': \\'Test-1\\'}, {\\'event_guid\\': \\'e6592eea-4ef2-499b-b033-9fe099bb2aa7\\', \\'date\\': \\'20250424-115746\\', \\'type\\': \\'emopened\\', \\'description\\': \\'4294967869 isEmailSent: true\\', \\'crm_id\\': 4295002273, \\'email\\': \\'steve@kulea.ma\\', \\'ip_address\\': \\'155.133.17.104\\', \\'user_agent\\': \\'Mozilla/5.0\\', \\'bot\\': False, \\'mailshot_id\\': 4294967869, \\'condition_id\\': 4294967860, \\'condition_title\\': \\'Example 1\\', \\'condition_subject\\': \"Please don\\'t open yet\", \\'condition_from\\': \\'andy@kulea.ma\\', \\'template_id\\': None, \\'template_title\\': \\'Test 1\\', \\'template_link\\': \\'Test-1\\'}, {\\'event_guid\\': \\'04fffaf8-6338-4276-a131-8ef8ab37e5d2\\', \\'date\\': \\'20250424-115639\\', \\'type\\': \\'emopened\\', \\'description\\': \\'4294967869 isEmailSent: true\\', \\'crm_id\\': 4295002215, \\'email\\': \\'andrew@kulea.ma\\', \\'ip_address\\': \\'66.249.93.11\\', \\'user_agent\\': \\'Mozilla/5.0 (Windows NT 5.1; rv:11.0) Gecko Firefox/11.0 (via ggpht.com GoogleImageProxy)\\', \\'bot\\': False, \\'mailshot_id\\': 4294967869, \\'condition_id\\': 4294967860, \\'condition_title\\': \\'Example 1\\', \\'condition_subject\\': \"Please don\\'t open yet\", \\'condition_from\\': \\'andy@kulea.ma\\', \\'template_id\\': None, \\'template_title\\': \\'Test 1\\', \\'template_link\\': \\'Test-1\\'}, {\\'event_guid\\': \\'8e8ed707-71e4-4e49-8c22-a6cec13e2c4b\\', \\'date\\': \\'20250424-115214\\', \\'type\\': \\'emdelivery\\', \\'description\\': \\'4294967869\\', \\'crm_id\\': 4295002215, \\'email\\': \\'andrew@kulea.ma\\', \\'ip_address\\': \\'\\', \\'user_agent\\': \\'\\', \\'bot\\': False, \\'mailshot_id\\': 4294967869, \\'condition_id\\': 4294967860, \\'condition_title\\': \\'Example 1\\', \\'condition_subject\\': \"Please don\\'t open yet\", \\'condition_from\\': \\'andy@kulea.ma\\', \\'template_id\\': None, \\'template_title\\': \\'Test 1\\', \\'template_link\\': \\'Test-1\\'}, {\\'event_guid\\': \\'d219c2ae-6cc8-4a0d-a291-d90fc8625b85\\', \\'date\\': \\'20250424-115214\\', \\'type\\': \\'emdelivery\\', \\'description\\': \\'4294967869\\', \\'crm_id\\': 4295004086, \\'email\\': \\'steve.bircher@btinternet.com\\', \\'ip_address\\': \\'\\', \\'user_agent\\': \\'\\', \\'bot\\': False, \\'mailshot_id\\': 4294967869, \\'condition_id\\': 4294967860, \\'condition_title\\': \\'Example 1\\', \\'condition_subject\\': \"Please don\\'t open yet\", \\'condition_from\\': \\'andy@kulea.ma\\', \\'template_id\\': None, \\'template_title\\': \\'Test 1\\', \\'template_link\\': \\'Test-1\\'}, {\\'event_guid\\': \\'dcc33390-f555-42a9-b092-c9432d47a748\\', \\'date\\': \\'20250424-115214\\', \\'type\\': \\'emdelivery\\', \\'description\\': \\'4294967869\\', \\'crm_id\\': 4295002356, \\'email\\': \\'constantin@kulea.ma\\', \\'ip_address\\': \\'\\', \\'user_agent\\': \\'\\', \\'bot\\': False, \\'mailshot_id\\': 4294967869, \\'condition_id\\': 4294967860, \\'condition_title\\': \\'Example 1\\', \\'condition_subject\\': \"Please don\\'t open yet\", \\'condition_from\\': \\'andy@kulea.ma\\', \\'template_id\\': None, \\'template_title\\': \\'Test 1\\', \\'template_link\\': \\'Test-1\\'}, {\\'event_guid\\': \\'f986179a-f287-4bae-8420-2f3e67f2db78\\', \\'date\\': \\'20250424-115214\\', \\'type\\': \\'emdelivery\\', \\'description\\': \\'4294967869\\', \\'crm_id\\': 4295002273, \\'email\\': \\'steve@kulea.ma\\', \\'ip_address\\': \\'\\', \\'user_agent\\': \\'\\', \\'bot\\': False, \\'mailshot_id\\': 4294967869, \\'condition_id\\': 4294967860, \\'condition_title\\': \\'Example 1\\', \\'condition_subject\\': \"Please don\\'t open yet\", \\'condition_from\\': \\'andy@kulea.ma\\', \\'template_id\\': None, \\'template_title\\': \\'Test 1\\', \\'template_link\\': \\'Test-1\\'}, {\\'event_guid\\': \\'45b6c65f-2caf-4c04-8025-bce2c154a210\\', \\'date\\': \\'20250220-140043\\', \\'type\\': \\'emopened\\', \\'description\\': \\'4294967867 isEmailSent: true\\', \\'crm_id\\': 4295002356, \\'email\\': \\'constantin@kulea.ma\\', \\'ip_address\\': \\'66.249.93.169\\', \\'user_agent\\': \\'Mozilla/5.0 (Windows NT 5.1; rv:11.0) Gecko Firefox/11.0 (via ggpht.com GoogleImageProxy)\\', \\'bot\\': False, \\'mailshot_id\\': 4294967867, \\'condition_id\\': 4294967858, \\'condition_title\\': \\'Form Thank you - Kulea demo1\\', \\'condition_subject\\': \\'Wild test with to data\\', \\'condition_from\\': \\'andrew@kulea.co.uk\\', \\'template_id\\': \\'fa7cf62d-963e-41c2-abd1-2980a86e3ec4\\', \\'template_title\\': \\'Wild.London\\', \\'template_link\\': \\'Wild-London\\'}, {\\'event_guid\\': \\'70c30b50-86e3-4a01-a8c7-34499e69daaa\\', \\'date\\': \\'20250220-140043\\', \\'type\\': \\'emopened\\', \\'description\\': \\'4294967826 isEmailSent: true\\', \\'crm_id\\': 4295002356, \\'email\\': \\'constantin@kulea.ma\\', \\'ip_address\\': \\'66.249.93.170\\', \\'user_agent\\': \\'Mozilla/5.0 (Windows NT 5.1; rv:11.0) Gecko Firefox/11.0 (via ggpht.com GoogleImageProxy)\\', \\'bot\\': False, \\'mailshot_id\\': 4294967826, \\'condition_id\\': 4294967819, \\'condition_title\\': \\'Form Thank you - Kulea demo1\\', \\'condition_subject\\': \\'Mel milking it\\', \\'condition_from\\': \\'andrew@kulea.ma\\', \\'template_id\\': \\'e49af120-9a1f-4ab2-8a15-db58cad776b5\\', \\'template_title\\': \\'Personal email\\', \\'template_link\\': \\'Personal-email\\'}, {\\'event_guid\\': \\'332d293b-a3e7-4e10-bb29-1eb900d38d35\\', \\'date\\': \\'20250216-221953\\', \\'type\\': \\'emopened\\', \\'description\\': \\'4294967868 isEmailSent: true\\', \\'crm_id\\': 4295002215, \\'email\\': \\'andrew@kulea.ma\\', \\'ip_address\\': \\'66.249.93.9\\', \\'user_agent\\': \\'Mozilla/5.0 (Windows NT 5.1; rv:11.0) Gecko Firefox/11.0 (via ggpht.com GoogleImageProxy)\\', \\'bot\\': False, \\'mailshot_id\\': 4294967868, \\'condition_id\\': 4294967859, \\'condition_title\\': \\'Form Thank you - Kulea demo1\\', \\'condition_subject\\': \\'Mel milking it\\', \\'condition_from\\': \\'andrew@kulea.ma\\', \\'template_id\\': \\'e49af120-9a1f-4ab2-8a15-db58cad776b5\\', \\'template_title\\': \\'Personal email\\', \\'template_link\\': \\'Personal-email\\'}, {\\'event_guid\\': \\'be1959eb-5dc1-4cb7-860a-638359387c50\\', \\'date\\': \\'20250216-192951\\', \\'type\\': \\'emdelivery\\', \\'description\\': \\'4294967868\\', \\'crm_id\\': 4295002215, \\'email\\': \\'andrew@kulea.ma\\', \\'ip_address\\': \\'\\', \\'user_agent\\': \\'\\', \\'bot\\': False, \\'mailshot_id\\': 4294967868, \\'condition_id\\': 4294967859, \\'condition_title\\': \\'Form Thank you - Kulea demo1\\', \\'condition_subject\\': \\'Mel milking it\\', \\'condition_from\\': \\'andrew@kulea.ma\\', \\'template_id\\': \\'e49af120-9a1f-4ab2-8a15-db58cad776b5\\', \\'template_title\\': \\'Personal email\\', \\'template_link\\': \\'Personal-email\\'}, {\\'event_guid\\': \\'44491f50-5212-40f8-84b1-d2918f6d5e7f\\', \\'date\\': \\'20250213-175632\\', \\'type\\': \\'emdelivery\\', \\'description\\': \\'4294967867\\', \\'crm_id\\': 4295002356, \\'email\\': \\'constantin@kulea.ma\\', \\'ip_address\\': \\'\\', \\'user_agent\\': \\'\\', \\'bot\\': False, \\'mailshot_id\\': 4294967867, \\'condition_id\\': 4294967858, \\'condition_title\\': \\'Form Thank you - Kulea demo1\\', \\'condition_subject\\': \\'Wild test with to data\\', \\'condition_from\\': \\'andrew@kulea.co.uk\\', \\'template_id\\': \\'fa7cf62d-963e-41c2-abd1-2980a86e3ec4\\', \\'template_title\\': \\'Wild.London\\', \\'template_link\\': \\'Wild-London\\'}, {\\'event_guid\\': \\'e126c989-3195-4b3b-b7a3-e7f6988f2170\\', \\'date\\': \\'20250213-174938\\', \\'type\\': \\'emdelivery\\', \\'description\\': \\'4294967867\\', \\'crm_id\\': 4295002356, \\'email\\': \\'constantin@kulea.ma\\', \\'ip_address\\': \\'\\', \\'user_agent\\': \\'\\', \\'bot\\': False, \\'mailshot_id\\': 4294967867, \\'condition_id\\': 4294967858, \\'condition_title\\': \\'Form Thank you - Kulea demo1\\', \\'condition_subject\\': \\'Wild test with to data\\', \\'condition_from\\': \\'andrew@kulea.co.uk\\', \\'template_id\\': \\'fa7cf62d-963e-41c2-abd1-2980a86e3ec4\\', \\'template_title\\': \\'Wild.London\\', \\'template_link\\': \\'Wild-London\\'}, {\\'event_guid\\': \\'b689fb61-02ff-4909-91ed-04a9c6e25da2\\', \\'date\\': \\'20250213-174531\\', \\'type\\': \\'emopened\\', \\'description\\': \\'4294967826 isEmailSent: true\\', \\'crm_id\\': 4295002356, \\'email\\': \\'constantin@kulea.ma\\', \\'ip_address\\': \\'66.249.93.171\\', \\'user_agent\\': \\'Mozilla/5.0 (Windows NT 5.1; rv:11.0) Gecko Firefox/11.0 (via ggpht.com GoogleImageProxy)\\', \\'bot\\': False, \\'mailshot_id\\': 4294967826, \\'condition_id\\': 4294967819, \\'condition_title\\': \\'Form Thank you - Kulea demo1\\', \\'condition_subject\\': \\'Mel milking it\\', \\'condition_from\\': \\'andrew@kulea.ma\\', \\'template_id\\': \\'e49af120-9a1f-4ab2-8a15-db58cad776b5\\', \\'template_title\\': \\'Personal email\\', \\'template_link\\': \\'Personal-email\\'}, {\\'event_guid\\': \\'c2c67287-666a-408b-9ee0-cb7d260eab24\\', \\'date\\': \\'20250213-174503\\', \\'type\\': \\'emdelivery\\', \\'description\\': \\'4294967826\\', \\'crm_id\\': 4295002356, \\'email\\': \\'constantin@kulea.ma\\', \\'ip_address\\': \\'\\', \\'user_agent\\': \\'\\', \\'bot\\': False, \\'mailshot_id\\': 4294967826, \\'condition_id\\': 4294967819, \\'condition_title\\': \\'Form Thank you - Kulea demo1\\', \\'condition_subject\\': \\'Mel milking it\\', \\'condition_from\\': \\'andrew@kulea.ma\\', \\'template_id\\': \\'e49af120-9a1f-4ab2-8a15-db58cad776b5\\', \\'template_title\\': \\'Personal email\\', \\'template_link\\': \\'Personal-email\\'}, {\\'event_guid\\': \\'cb8f3614-2400-4304-9873-dd29f7fcf602\\', \\'date\\': \\'20250213-174503\\', \\'type\\': \\'emdelivery\\', \\'description\\': \\'4294967826\\', \\'crm_id\\': 4295002356, \\'email\\': \\'constantin@kulea.ma\\', \\'ip_address\\': \\'\\', \\'user_agent\\': \\'\\', \\'bot\\': False, \\'mailshot_id\\': 4294967826, \\'condition_id\\': 4294967819, \\'condition_title\\': \\'Form Thank you - Kulea demo1\\', \\'condition_subject\\': \\'Mel milking it\\', \\'condition_from\\': \\'andrew@kulea.ma\\', \\'template_id\\': \\'e49af120-9a1f-4ab2-8a15-db58cad776b5\\', \\'template_title\\': \\'Personal email\\', \\'template_link\\': \\'Personal-email\\'}, {\\'event_guid\\': \\'86aa4dba-cac5-45ef-af2e-bf5eee53603b\\', \\'date\\': \\'20250120-081541\\', \\'type\\': \\'emdelivery\\', \\'description\\': \\'4294967865\\', \\'crm_id\\': 4294999886, \\'email\\': \\'7676test@kulea.ma\\', \\'ip_address\\': \\'\\', \\'user_agent\\': \\'\\', \\'bot\\': False, \\'mailshot_id\\': 4294967865, \\'condition_id\\': 4294967856, \\'condition_title\\': \\'Test2\\', \\'condition_subject\\': \\'Wild test with to data\\', \\'condition_from\\': \\'andrew@kulea.co.uk\\', \\'template_id\\': \\'fa7cf62d-963e-41c2-abd1-2980a86e3ec4\\', \\'template_title\\': \\'Wild.London\\', \\'template_link\\': \\'Wild-London\\'}, {\\'event_guid\\': \\'e693925f-990f-4d35-8912-2f4018867bfd\\', \\'date\\': \\'20250119-184044\\', \\'type\\': \\'emclickedlink\\', \\'description\\': \\'https://mylinks.kulea.ma/pages/wild-nicola from shot 4294967866 isEmailSent: true\\', \\'crm_id\\': 4294999886, \\'email\\': \\'7676test@kulea.ma\\', \\'ip_address\\': \\'62.252.173.134\\', \\'user_agent\\': \\'Mozilla/5.0 (Windows NT 10.0; Win64; x64) AppleWebKit/537.36 (KHTML, like Gecko) Chrome/131.0.0.0 Safari/537.36\\', \\'bot\\': False, \\'mailshot_id\\': 4294967866, \\'condition_id\\': 4294967857, \\'condition_title\\': \\'test run\\', \\'condition_subject\\': \\'Wild test with to data\\', \\'condition_from\\': \\'roc@kulea.ma\\', \\'template_id\\': \\'fa7cf62d-963e-41c2-abd1-2980a86e3ec4\\', \\'template_title\\': \\'Wild.London\\', \\'template_link\\': \\'Wild-London\\'}, {\\'event_guid\\': \\'f85e1cc3-fe9c-43f9-9147-d896c7b84b99\\', \\'date\\': \\'20250119-184044\\', \\'type\\': \\'emclickedlink\\', \\'description\\': \\'https://mylinks.kulea.ma/pages/wild-nicola from shot 4294967866 isEmailSent: true\\', \\'crm_id\\': 4294999886, \\'email\\': \\'7676test@kulea.ma\\', \\'ip_address\\': \\'82.15.95.137\\', \\'user_agent\\': \\'Mozilla/5.0 (Windows NT 10.0; Win64; x64) AppleWebKit/537.36 (KHTML, like Gecko) Chrome/131.0.0.0 Safari/537.36\\', \\'bot\\': False, \\'mailshot_id\\': 4294967866, \\'condition_id\\': 4294967857, \\'condition_title\\': \\'test run\\', \\'condition_subject\\': \\'Wild test with to data\\', \\'condition_from\\': \\'roc@kulea.ma\\', \\'template_id\\': \\'fa7cf62d-963e-41c2-abd1-2980a86e3ec4\\', \\'template_title\\': \\'Wild.London\\', \\'template_link\\': \\'Wild-London\\'}, {\\'event_guid\\': \\'53fed15f-c060-4d4b-af19-f34ba6e61fa1\\', \\'date\\': \\'20250119-184034\\', \\'type\\': \\'emclickedlink\\', \\'description\\': \\'https://mylinks.kulea.ma/pages/wild-nicola from shot 4294967866 isEmailSent: true\\', \\'crm_id\\': 4294999886, \\'email\\': \\'7676test@kulea.ma\\', \\'ip_address\\': \\'92.18.40.63\\', \\'user_agent\\': \\'Mozilla/5.0 (Macintosh; Intel Mac OS X 10_15_7) AppleWebKit/537.36 (KHTML, like Gecko) Chrome/131.0.0.0 Safari/537.36\\', \\'bot\\': False, \\'mailshot_id\\': 4294967866, \\'condition_id\\': 4294967857, \\'condition_title\\': \\'test run\\', \\'condition_subject\\': \\'Wild test with to data\\', \\'condition_from\\': \\'roc@kulea.ma\\', \\'template_id\\': \\'fa7cf62d-963e-41c2-abd1-2980a86e3ec4\\', \\'template_title\\': \\'Wild.London\\', \\'template_link\\': \\'Wild-London\\'}, {\\'event_guid\\': \\'c5696ca4-9155-4acb-b35c-104db6ed34f9\\', \\'date\\': \\'20250119-184034\\', \\'type\\': \\'emopened\\', \\'description\\': \\'4294967866 isEmailSent: true\\', \\'crm_id\\': 4294999886, \\'email\\': \\'7676test@kulea.ma\\', \\'ip_address\\': \\'92.18.40.63\\', \\'user_agent\\': \\'Mozilla/5.0 (Macintosh; Intel Mac OS X 10_15_7) AppleWebKit/537.36 (KHTML, like Gecko) Chrome/131.0.0.0 Safari/537.36\\', \\'bot\\': False, \\'mailshot_id\\': 4294967866, \\'condition_id\\': 4294967857, \\'condition_title\\': \\'test run\\', \\'condition_subject\\': \\'Wild test with to data\\', \\'condition_from\\': \\'roc@kulea.ma\\', \\'template_id\\': \\'fa7cf62d-963e-41c2-abd1-2980a86e3ec4\\', \\'template_title\\': \\'Wild.London\\', \\'template_link\\': \\'Wild-London\\'}, {\\'event_guid\\': \\'3be3af7e-8159-4064-9614-7ae165a8778d\\', \\'date\\': \\'20250119-184031\\', \\'type\\': \\'emdelivery\\', \\'description\\': \\'4294967866\\', \\'crm_id\\': 4294999886, \\'email\\': \\'7676test@kulea.ma\\', \\'ip_address\\': \\'\\', \\'user_agent\\': \\'\\', \\'bot\\': False, \\'mailshot_id\\': 4294967866, \\'condition_id\\': 4294967857, \\'condition_title\\': \\'test run\\', \\'condition_subject\\': \\'Wild test with to data\\', \\'condition_from\\': \\'roc@kulea.ma\\', \\'template_id\\': \\'fa7cf62d-963e-41c2-abd1-2980a86e3ec4\\', \\'template_title\\': \\'Wild.London\\', \\'template_link\\': \\'Wild-London\\'}, {\\'event_guid\\': \\'6926f9dc-fc17-4b9f-885b-07786d734316\\', \\'date\\': \\'20250119-182200\\', \\'type\\': \\'emdelivery\\', \\'description\\': \\'4294967826\\', \\'crm_id\\': 4295002356, \\'email\\': \\'constantin@kulea.ma\\', \\'ip_address\\': \\'\\', \\'user_agent\\': \\'\\', \\'bot\\': False, \\'mailshot_id\\': 4294967826, \\'condition_id\\': 4294967819, \\'condition_title\\': \\'Form Thank you - Kulea demo1\\', \\'condition_subject\\': \\'Mel milking it\\', \\'condition_from\\': \\'andrew@kulea.ma\\', \\'template_id\\': \\'e49af120-9a1f-4ab2-8a15-db58cad776b5\\', \\'template_title\\': \\'Personal email\\', \\'template_link\\': \\'Personal-email\\'}, {\\'event_guid\\': \\'55543903-e98c-4252-87ca-5a06761ca491\\', \\'date\\': \\'20250119-181406\\', \\'type\\': \\'emclickedlink\\', \\'description\\': \\'https://kulea.ma from shot 4294967864 isEmailSent: true\\', \\'crm_id\\': 4294999886, \\'email\\': \\'7676test@kulea.ma\\', \\'ip_address\\': \\'92.18.40.63\\', \\'user_agent\\': \\'Mozilla/5.0 (Macintosh; Intel Mac OS X 10_15_7) AppleWebKit/537.36 (KHTML, like Gecko) Chrome/131.0.0.0 Safari/537.36\\', \\'bot\\': False, \\'mailshot_id\\': 4294967864, \\'condition_id\\': 4294967855, \\'condition_title\\': \\'Andrew Nicholson\\', \\'condition_subject\\': \\'Wild test with to data\\', \\'condition_from\\': \\'andrew@kulea.co.uk\\', \\'template_id\\': \\'fa7cf62d-963e-41c2-abd1-2980a86e3ec4\\', \\'template_title\\': \\'Wild.London\\', \\'template_link\\': \\'Wild-London\\'}, {\\'event_guid\\': \\'b44da607-fe83-4e5e-98df-63c508d0bf9c\\', \\'date\\': \\'20250119-181253\\', \\'type\\': \\'emclickedlink\\', \\'description\\': \\'https://mylinks.kulea.ma/pages/wild-nicola from shot 4294967864 isEmailSent: true\\', \\'crm_id\\': 4294999886, \\'email\\': \\'7676test@kulea.ma\\', \\'ip_address\\': \\'92.18.40.63\\', \\'user_agent\\': \\'Mozilla/5.0 (Macintosh; Intel Mac OS X 10_15_7) AppleWebKit/537.36 (KHTML, like Gecko) Chrome/131.0.0.0 Safari/537.36\\', \\'bot\\': False, \\'mailshot_id\\': 4294967864, \\'condition_id\\': 4294967855, \\'condition_title\\': \\'Andrew Nicholson\\', \\'condition_subject\\': \\'Wild test with to data\\', \\'condition_from\\': \\'andrew@kulea.co.uk\\', \\'template_id\\': \\'fa7cf62d-963e-41c2-abd1-2980a86e3ec4\\', \\'template_title\\': \\'Wild.London\\', \\'template_link\\': \\'Wild-London\\'}, {\\'event_guid\\': \\'f60de88c-42b3-49b5-a8de-32904b55ca35\\', \\'date\\': \\'20250119-181048\\', \\'type\\': \\'emclickedlink\\', \\'description\\': \\'https://kulea.ma from shot 4294967864 isEmailSent: true\\', \\'crm_id\\': 4294999886, \\'email\\': \\'7676test@kulea.ma\\', \\'ip_address\\': \\'62.255.45.137\\', \\'user_agent\\': \\'Mozilla/5.0 (Windows NT 10.0; Win64; x64) AppleWebKit/537.36 (KHTML, like Gecko) Chrome/131.0.0.0 Safari/537.36\\', \\'bot\\': False, \\'mailshot_id\\': 4294967864, \\'condition_id\\': 4294967855, \\'condition_title\\': \\'Andrew Nicholson\\', \\'condition_subject\\': \\'Wild test with to data\\', \\'condition_from\\': \\'andrew@kulea.co.uk\\', \\'template_id\\': \\'fa7cf62d-963e-41c2-abd1-2980a86e3ec4\\', \\'template_title\\': \\'Wild.London\\', \\'template_link\\': \\'Wild-London\\'}, {\\'event_guid\\': \\'70ad0786-8444-4733-a70f-c4c76f3d9c1a\\', \\'date\\': \\'20250119-181042\\', \\'type\\': \\'emclickedlink\\', \\'description\\': \\'https://kulea.ma from shot 4294967864 isEmailSent: true\\', \\'crm_id\\': 4294999886, \\'email\\': \\'7676test@kulea.ma\\', \\'ip_address\\': \\'92.18.40.63\\', \\'user_agent\\': \\'Mozilla/5.0 (Macintosh; Intel Mac OS X 10_15_7) AppleWebKit/537.36 (KHTML, like Gecko) Chrome/131.0.0.0 Safari/537.36\\', \\'bot\\': False, \\'mailshot_id\\': 4294967864, \\'condition_id\\': 4294967855, \\'condition_title\\': \\'Andrew Nicholson\\', \\'condition_subject\\': \\'Wild test with to data\\', \\'condition_from\\': \\'andrew@kulea.co.uk\\', \\'template_id\\': \\'fa7cf62d-963e-41c2-abd1-2980a86e3ec4\\', \\'template_title\\': \\'Wild.London\\', \\'template_link\\': \\'Wild-London\\'}, {\\'event_guid\\': \\'e519a557-d70f-4439-9e0f-b670f03209c2\\', \\'date\\': \\'20250119-181017\\', \\'type\\': \\'emclickedlink\\', \\'description\\': \\'https://mylinks.kulea.ma/pages/wild-nicola from shot 4294967864 isEmailSent: true\\', \\'crm_id\\': 4294999886, \\'email\\': \\'7676test@kulea.ma\\', \\'ip_address\\': \\'62.255.45.135\\', \\'user_agent\\': \\'Mozilla/5.0 (Windows NT 10.0; Win64; x64) AppleWebKit/537.36 (KHTML, like Gecko) Chrome/131.0.0.0 Safari/537.36\\', \\'bot\\': False, \\'mailshot_id\\': 4294967864, \\'condition_id\\': 4294967855, \\'condition_title\\': \\'Andrew Nicholson\\', \\'condition_subject\\': \\'Wild test with to data\\', \\'condition_from\\': \\'andrew@kulea.co.uk\\', \\'template_id\\': \\'fa7cf62d-963e-41c2-abd1-2980a86e3ec4\\', \\'template_title\\': \\'Wild.London\\', \\'template_link\\': \\'Wild-London\\'}, {\\'event_guid\\': \\'ec2f628e-f1fa-405f-a357-c9ef4e599ba4\\', \\'date\\': \\'20250119-181010\\', \\'type\\': \\'emclickedlink\\', \\'description\\': \\'https://mylinks.kulea.ma/pages/wild-nicola from shot 4294967864 isEmailSent: true\\', \\'crm_id\\': 4294999886, \\'email\\': \\'7676test@kulea.ma\\', \\'ip_address\\': \\'92.18.40.63\\', \\'user_agent\\': \\'Mozilla/5.0 (Macintosh; Intel Mac OS X 10_15_7) AppleWebKit/537.36 (KHTML, like Gecko) Chrome/131.0.0.0 Safari/537.36\\', \\'bot\\': False, \\'mailshot_id\\': 4294967864, \\'condition_id\\': 4294967855, \\'condition_title\\': \\'Andrew Nicholson\\', \\'condition_subject\\': \\'Wild test with to data\\', \\'condition_from\\': \\'andrew@kulea.co.uk\\', \\'template_id\\': \\'fa7cf62d-963e-41c2-abd1-2980a86e3ec4\\', \\'template_title\\': \\'Wild.London\\', \\'template_link\\': \\'Wild-London\\'}, {\\'event_guid\\': \\'ae106ec6-f6ee-4531-80a1-6063187dfeaa\\', \\'date\\': \\'20250119-180910\\', \\'type\\': \\'emopened\\', \\'description\\': \\'4294967864 isEmailSent: true\\', \\'crm_id\\': 4294999886, \\'email\\': \\'7676test@kulea.ma\\', \\'ip_address\\': \\'66.249.93.11\\', \\'user_agent\\': \\'Mozilla/5.0 (Windows NT 5.1; rv:11.0) Gecko Firefox/11.0 (via ggpht.com GoogleImageProxy)\\', \\'bot\\': False, \\'mailshot_id\\': 4294967864, \\'condition_id\\': 4294967855, \\'condition_title\\': \\'Andrew Nicholson\\', \\'condition_subject\\': \\'Wild test with to data\\', \\'condition_from\\': \\'andrew@kulea.co.uk\\', \\'template_id\\': \\'fa7cf62d-963e-41c2-abd1-2980a86e3ec4\\', \\'template_title\\': \\'Wild.London\\', \\'template_link\\': \\'Wild-London\\'}, {\\'event_guid\\': \\'019c0575-b332-4452-bee8-67834dc591de\\', \\'date\\': \\'20250119-180813\\', \\'type\\': \\'emdelivery\\', \\'description\\': \\'4294967864\\', \\'crm_id\\': 4294999886, \\'email\\': \\'7676test@kulea.ma\\', \\'ip_address\\': \\'\\', \\'user_agent\\': \\'\\', \\'bot\\': False, \\'mailshot_id\\': 4294967864, \\'condition_id\\': 4294967855, \\'condition_title\\': \\'Andrew Nicholson\\', \\'condition_subject\\': \\'Wild test with to data\\', \\'condition_from\\': \\'andrew@kulea.co.uk\\', \\'template_id\\': \\'fa7cf62d-963e-41c2-abd1-2980a86e3ec4\\', \\'template_title\\': \\'Wild.London\\', \\'template_link\\': \\'Wild-London\\'}, {\\'event_guid\\': \\'02aa747f-e116-4aff-8728-59807bf0ccbb\\', \\'date\\': \\'20250116-145203\\', \\'type\\': \\'emopened\\', \\'description\\': \\'4294967831 isEmailSent: true\\', \\'crm_id\\': 4294994882, \\'email\\': \\'2672test@kulea.ma\\', \\'ip_address\\': \\'89.37.64.11\\', \\'user_agent\\': \\'myagentfull\\', \\'bot\\': True, \\'mailshot_id\\': 4294967831, \\'condition_id\\': 4294967824, \\'condition_title\\': \\'ccc\\', \\'condition_subject\\': \\'Marketing automation that cuts through the noise\\', \\'condition_from\\': \\'esther@kulea.ma\\', \\'template_id\\': \\'e4cf3f50-dc87-4bc0-9e15-2aa6c2cb5a7e\\', \\'template_title\\': \\'Kulea branded email - Andrew\\', \\'template_link\\': \\'Kulea-branded-email-Andrew\\'}, {\\'event_guid\\': \\'334d043f-2e2b-48c4-86ba-a84976dd540b\\', \\'date\\': \\'20250116-145203\\', \\'type\\': \\'emopened\\', \\'description\\': \\'4294967831 isEmailSent: true\\', \\'crm_id\\': 4294994326, \\'email\\': \\'2116test@kulea.ma\\', \\'ip_address\\': \\'89.37.64.11\\', \\'user_agent\\': \\'myagentfull\\', \\'bot\\': True, \\'mailshot_id\\': 4294967831, \\'condition_id\\': 4294967824, \\'condition_title\\': \\'ccc\\', \\'condition_subject\\': \\'Marketing automation that cuts through the noise\\', \\'condition_from\\': \\'esther@kulea.ma\\', \\'template_id\\': \\'e4cf3f50-dc87-4bc0-9e15-2aa6c2cb5a7e\\', \\'template_title\\': \\'Kulea branded email - Andrew\\', \\'template_link\\': \\'Kulea-branded-email-Andrew\\'}, {\\'event_guid\\': \\'3c31f1b0-ce1f-4179-be2f-3a1bd342991e\\', \\'date\\': \\'20250116-145203\\', \\'type\\': \\'emopened\\', \\'description\\': \\'4294967831 isEmailSent: true\\', \\'crm_id\\': 4294998061, \\'email\\': \\'5851test@kulea.ma\\', \\'ip_address\\': \\'89.37.64.11\\', \\'user_agent\\': \\'myagentfull\\', \\'bot\\': True, \\'mailshot_id\\': 4294967831, \\'condition_id\\': 4294967824, \\'condition_title\\': \\'ccc\\', \\'condition_subject\\': \\'Marketing automation that cuts through the noise\\', \\'condition_from\\': \\'esther@kulea.ma\\', \\'template_id\\': \\'e4cf3f50-dc87-4bc0-9e15-2aa6c2cb5a7e\\', \\'template_title\\': \\'Kulea branded email - Andrew\\', \\'template_link\\': \\'Kulea-branded-email-Andrew\\'}, {\\'event_guid\\': \\'11f0afd8-3e93-4369-97b8-3476b89e5ec7\\', \\'date\\': \\'20250116-145202\\', \\'type\\': \\'emdelivery\\', \\'description\\': \\'4294967831\\', \\'crm_id\\': 4294996469, \\'email\\': \\'4259test@kulea.ma\\', \\'ip_address\\': \\'\\', \\'user_agent\\': \\'\\', \\'bot\\': False, \\'mailshot_id\\': 4294967831, \\'condition_id\\': 4294967824, \\'condition_title\\': \\'ccc\\', \\'condition_subject\\': \\'Marketing automation that cuts through the noise\\', \\'condition_from\\': \\'esther@kulea.ma\\', \\'template_id\\': \\'e4cf3f50-dc87-4bc0-9e15-2aa6c2cb5a7e\\', \\'template_title\\': \\'Kulea branded email - Andrew\\', \\'template_link\\': \\'Kulea-branded-email-Andrew\\'}, {\\'event_guid\\': \\'34c6a176-58b9-4662-8648-3341212ec78e\\', \\'date\\': \\'20250116-145202\\', \\'type\\': \\'emdelivery\\', \\'description\\': \\'4294967831\\', \\'crm_id\\': 4294999962, \\'email\\': \\'7752test@kulea.ma\\', \\'ip_address\\': \\'\\', \\'user_agent\\': \\'\\', \\'bot\\': False, \\'mailshot_id\\': 4294967831, \\'condition_id\\': 4294967824, \\'condition_title\\': \\'ccc\\', \\'condition_subject\\': \\'Marketing automation that cuts through the noise\\', \\'condition_from\\': \\'esther@kulea.ma\\', \\'template_id\\': \\'e4cf3f50-dc87-4bc0-9e15-2aa6c2cb5a7e\\', \\'template_title\\': \\'Kulea branded email - Andrew\\', \\'template_link\\': \\'Kulea-branded-email-Andrew\\'}, {\\'event_guid\\': \\'421da21d-41de-4c5c-8305-9766149c5aeb\\', \\'date\\': \\'20250116-145202\\', \\'type\\': \\'emdelivery\\', \\'description\\': \\'4294967831\\', \\'crm_id\\': 4294995272, \\'email\\': \\'3062test@kulea.ma\\', \\'ip_address\\': \\'\\', \\'user_agent\\': \\'\\', \\'bot\\': False, \\'mailshot_id\\': 4294967831, \\'condition_id\\': 4294967824, \\'condition_title\\': \\'ccc\\', \\'condition_subject\\': \\'Marketing automation that cuts through the noise\\', \\'condition_from\\': \\'esther@kulea.ma\\', \\'template_id\\': \\'e4cf3f50-dc87-4bc0-9e15-2aa6c2cb5a7e\\', \\'template_title\\': \\'Kulea branded email - Andrew\\', \\'template_link\\': \\'Kulea-branded-email-Andrew\\'}, {\\'event_guid\\': \\'76277053-9627-46d6-baa9-34137e15f39e\\', \\'date\\': \\'20250116-145202\\', \\'type\\': \\'emdelivery\\', \\'description\\': \\'4294967831\\', \\'crm_id\\': 4294996266, \\'email\\': \\'4056test@kulea.ma\\', \\'ip_address\\': \\'\\', \\'user_agent\\': \\'\\', \\'bot\\': False, \\'mailshot_id\\': 4294967831, \\'condition_id\\': 4294967824, \\'condition_title\\': \\'ccc\\', \\'condition_subject\\': \\'Marketing automation that cuts through the noise\\', \\'condition_from\\': \\'esther@kulea.ma\\', \\'template_id\\': \\'e4cf3f50-dc87-4bc0-9e15-2aa6c2cb5a7e\\', \\'template_title\\': \\'Kulea branded email - Andrew\\', \\'template_link\\': \\'Kulea-branded-email-Andrew\\'}, {\\'event_guid\\': \\'784db80a-34ef-45a2-9962-eca700a3c14b\\', \\'date\\': \\'20250116-145202\\', \\'type\\': \\'emopened\\', \\'description\\': \\'4294967831 isEmailSent: true\\', \\'crm_id\\': 4295001093, \\'email\\': \\'8883test@kulea.ma\\', \\'ip_address\\': \\'89.37.64.11\\', \\'user_agent\\': \\'myagentfull\\', \\'bot\\': True, \\'mailshot_id\\': 4294967831, \\'condition_id\\': 4294967824, \\'condition_title\\': \\'ccc\\', \\'condition_subject\\': \\'Marketing automation that cuts through the noise\\', \\'condition_from\\': \\'esther@kulea.ma\\', \\'template_id\\': \\'e4cf3f50-dc87-4bc0-9e15-2aa6c2cb5a7e\\', \\'template_title\\': \\'Kulea branded email - Andrew\\', \\'template_link\\': \\'Kulea-branded-email-Andrew\\'}, {\\'event_guid\\': \\'8e3d0738-adcd-4579-a349-0fa7959c2000\\', \\'date\\': \\'20250116-145202\\', \\'type\\': \\'emdelivery\\', \\'description\\': \\'4294967831\\', \\'crm_id\\': 4294994239, \\'email\\': \\'2029test@kulea.ma\\', \\'ip_address\\': \\'\\', \\'user_agent\\': \\'\\', \\'bot\\': False, \\'mailshot_id\\': 4294967831, \\'condition_id\\': 4294967824, \\'condition_title\\': \\'ccc\\', \\'condition_subject\\': \\'Marketing automation that cuts through the noise\\', \\'condition_from\\': \\'esther@kulea.ma\\', \\'template_id\\': \\'e4cf3f50-dc87-4bc0-9e15-2aa6c2cb5a7e\\', \\'template_title\\': \\'Kulea branded email - Andrew\\', \\'template_link\\': \\'Kulea-branded-email-Andrew\\'}, {\\'event_guid\\': \\'b12008d5-eb6d-49e9-8b00-1da8188a66d7\\', \\'date\\': \\'20250116-145202\\', \\'type\\': \\'emopened\\', \\'description\\': \\'4294967829 isEmailSent: true\\', \\'crm_id\\': 4294998775, \\'email\\': \\'6565test@kulea.ma\\', \\'ip_address\\': \\'89.37.64.11\\', \\'user_agent\\': \\'myagentfull\\', \\'bot\\': True, \\'mailshot_id\\': 4294967829, \\'condition_id\\': 4294967822, \\'condition_title\\': \\'eee\\', \\'condition_subject\\': \\'Marketing automation that cuts through the noise\\', \\'condition_from\\': \\'esther@kulea.ma\\', \\'template_id\\': \\'e4cf3f50-dc87-4bc0-9e15-2aa6c2cb5a7e\\', \\'template_title\\': \\'Kulea branded email - Andrew\\', \\'template_link\\': \\'Kulea-branded-email-Andrew\\'}, {\\'event_guid\\': \\'b1cabcbc-5a1d-47cc-bd06-47a1dfcee5d7\\', \\'date\\': \\'20250116-145202\\', \\'type\\': \\'emopened\\', \\'description\\': \\'4294967831 isEmailSent: true\\', \\'crm_id\\': 4294993654, \\'email\\': \\'1444test@kulea.ma\\', \\'ip_address\\': \\'89.37.64.11\\', \\'user_agent\\': \\'myagentfull\\', \\'bot\\': True, \\'mailshot_id\\': 4294967831, \\'condition_id\\': 4294967824, \\'condition_title\\': \\'ccc\\', \\'condition_subject\\': \\'Marketing automation that cuts through the noise\\', \\'condition_from\\': \\'esther@kulea.ma\\', \\'template_id\\': \\'e4cf3f50-dc87-4bc0-9e15-2aa6c2cb5a7e\\', \\'template_title\\': \\'Kulea branded email - Andrew\\', \\'template_link\\': \\'Kulea-branded-email-Andrew\\'}, {\\'event_guid\\': \\'b23d1fb1-3063-415d-8509-10c2d7f8c902\\', \\'date\\': \\'20250116-145202\\', \\'type\\': \\'emdelivery\\', \\'description\\': \\'4294967831\\', \\'crm_id\\': 4294994037, \\'email\\': \\'1827test@kulea.ma\\', \\'ip_address\\': \\'\\', \\'user_agent\\': \\'\\', \\'bot\\': False, \\'mailshot_id\\': 4294967831, \\'condition_id\\': 4294967824, \\'condition_title\\': \\'ccc\\', \\'condition_subject\\': \\'Marketing automation that cuts through the noise\\', \\'condition_from\\': \\'esther@kulea.ma\\', \\'template_id\\': \\'e4cf3f50-dc87-4bc0-9e15-2aa6c2cb5a7e\\', \\'template_title\\': \\'Kulea branded email - Andrew\\', \\'template_link\\': \\'Kulea-branded-email-Andrew\\'}, {\\'event_guid\\': \\'b9786d01-bd08-4913-a518-fc619919b15c\\', \\'date\\': \\'20250116-145202\\', \\'type\\': \\'emopened\\', \\'description\\': \\'4294967831 isEmailSent: true\\', \\'crm_id\\': 4294999526, \\'email\\': \\'7316test@kulea.ma\\', \\'ip_address\\': \\'89.37.64.11\\', \\'user_agent\\': \\'myagentfull\\', \\'bot\\': True, \\'mailshot_id\\': 4294967831, \\'condition_id\\': 4294967824, \\'condition_title\\': \\'ccc\\', \\'condition_subject\\': \\'Marketing automation that cuts through the noise\\', \\'condition_from\\': \\'esther@kulea.ma\\', \\'template_id\\': \\'e4cf3f50-dc87-4bc0-9e15-2aa6c2cb5a7e\\', \\'template_title\\': \\'Kulea branded email - Andrew\\', \\'template_link\\': \\'Kulea-branded-email-Andrew\\'}, {\\'event_guid\\': \\'bd2cff07-05ab-4f89-bcbd-109e37426108\\', \\'date\\': \\'20250116-145202\\', \\'type\\': \\'emopened\\', \\'description\\': \\'4294967831 isEmailSent: true\\', \\'crm_id\\': 4294996219, \\'email\\': \\'4009test@kulea.ma\\', \\'ip_address\\': \\'89.37.64.11\\', \\'user_agent\\': \\'Mozilla/5.0 (iPhone; CPU iPhone OS 18_1_1 like Mac OS X) AppleWebKit/605.1.15 (KHTML, like Gecko) Version/18.1.1 Mobile/15E148 Safari/604.1\\', \\'bot\\': False, \\'mailshot_id\\': 4294967831, \\'condition_id\\': 4294967824, \\'condition_title\\': \\'ccc\\', \\'condition_subject\\': \\'Marketing automation that cuts through the noise\\', \\'condition_from\\': \\'esther@kulea.ma\\', \\'template_id\\': \\'e4cf3f50-dc87-4bc0-9e15-2aa6c2cb5a7e\\', \\'template_title\\': \\'Kulea branded email - Andrew\\', \\'template_link\\': \\'Kulea-branded-email-Andrew\\'}, {\\'event_guid\\': \\'dd347f9e-eeb5-4547-aae7-590846668ce4\\', \\'date\\': \\'20250116-145202\\', \\'type\\': \\'emopened\\', \\'description\\': \\'4294967831 isEmailSent: true\\', \\'crm_id\\': 4294995447, \\'email\\': \\'3237test@kulea.ma\\', \\'ip_address\\': \\'89.37.64.11\\', \\'user_agent\\': \\'myagentfull\\', \\'bot\\': True, \\'mailshot_id\\': 4294967831, \\'condition_id\\': 4294967824, \\'condition_title\\': \\'ccc\\', \\'condition_subject\\': \\'Marketing automation that cuts through the noise\\', \\'condition_from\\': \\'esther@kulea.ma\\', \\'template_id\\': \\'e4cf3f50-dc87-4bc0-9e15-2aa6c2cb5a7e\\', \\'template_title\\': \\'Kulea branded email - Andrew\\', \\'template_link\\': \\'Kulea-branded-email-Andrew\\'}, {\\'event_guid\\': \\'e3ce7807-753a-41b4-85ac-0d7eaa6f5cf0\\', \\'date\\': \\'20250116-145202\\', \\'type\\': \\'emdelivery\\', \\'description\\': \\'4294967831\\', \\'crm_id\\': 4295005070, \\'email\\': \\'937newtest@kulea.ma\\', \\'ip_address\\': \\'\\', \\'user_agent\\': \\'\\', \\'bot\\': False, \\'mailshot_id\\': 4294967831, \\'condition_id\\': 4294967824, \\'condition_title\\': \\'ccc\\', \\'condition_subject\\': \\'Marketing automation that cuts through the noise\\', \\'condition_from\\': \\'esther@kulea.ma\\', \\'template_id\\': \\'e4cf3f50-dc87-4bc0-9e15-2aa6c2cb5a7e\\', \\'template_title\\': \\'Kulea branded email - Andrew\\', \\'template_link\\': \\'Kulea-branded-email-Andrew\\'}, {\\'event_guid\\': \\'fb67672e-cb24-42ff-a217-a2f5f65f6684\\', \\'date\\': \\'20250116-145202\\', \\'type\\': \\'emdelivery\\', \\'description\\': \\'4294967831\\', \\'crm_id\\': 4294994565, \\'email\\': \\'2355test@kulea.ma\\', \\'ip_address\\': \\'\\', \\'user_agent\\': \\'\\', \\'bot\\': False, \\'mailshot_id\\': 4294967831, \\'condition_id\\': 4294967824, \\'condition_title\\': \\'ccc\\', \\'condition_subject\\': \\'Marketing automation that cuts through the noise\\', \\'condition_from\\': \\'esther@kulea.ma\\', \\'template_id\\': \\'e4cf3f50-dc87-4bc0-9e15-2aa6c2cb5a7e\\', \\'template_title\\': \\'Kulea branded email - Andrew\\', \\'template_link\\': \\'Kulea-branded-email-Andrew\\'}, {\\'event_guid\\': \\'fc4f6813-9c1e-4101-9aa4-a54c1d99956a\\', \\'date\\': \\'20250116-145202\\', \\'type\\': \\'emopened\\', \\'description\\': \\'4294967831 isEmailSent: true\\', \\'crm_id\\': 4294996979, \\'email\\': \\'4769test@kulea.ma\\', \\'ip_address\\': \\'89.37.64.11\\', \\'user_agent\\': \\'myagentfull\\', \\'bot\\': True, \\'mailshot_id\\': 4294967831, \\'condition_id\\': 4294967824, \\'condition_title\\': \\'ccc\\', \\'condition_subject\\': \\'Marketing automation that cuts through the noise\\', \\'condition_from\\': \\'esther@kulea.ma\\', \\'template_id\\': \\'e4cf3f50-dc87-4bc0-9e15-2aa6c2cb5a7e\\', \\'template_title\\': \\'Kulea branded email - Andrew\\', \\'template_link\\': \\'Kulea-branded-email-Andrew\\'}, {\\'event_guid\\': \\'0ac66632-d2a4-4de3-8ffd-17bbc5571038\\', \\'date\\': \\'20250116-145201\\', \\'type\\': \\'emdelivery\\', \\'description\\': \\'4294967831\\', \\'crm_id\\': 4295004921, \\'email\\': \\'788newtest@kulea.ma\\', \\'ip_address\\': \\'\\', \\'user_agent\\': \\'\\', \\'bot\\': False, \\'mailshot_id\\': 4294967831, \\'condition_id\\': 4294967824, \\'condition_title\\': \\'ccc\\', \\'condition_subject\\': \\'Marketing automation that cuts through the noise\\', \\'condition_from\\': \\'esther@kulea.ma\\', \\'template_id\\': \\'e4cf3f50-dc87-4bc0-9e15-2aa6c2cb5a7e\\', \\'template_title\\': \\'Kulea branded email - Andrew\\', \\'template_link\\': \\'Kulea-branded-email-Andrew\\'}, {\\'event_guid\\': \\'1640a0cb-38e8-4a58-9fad-eec6ae7c0839\\', \\'date\\': \\'20250116-145201\\', \\'type\\': \\'emdelivery\\', \\'description\\': \\'4294967831\\', \\'crm_id\\': 4294992323, \\'email\\': \\'113test@kulea.ma\\', \\'ip_address\\': \\'\\', \\'user_agent\\': \\'\\', \\'bot\\': False, \\'mailshot_id\\': 4294967831, \\'condition_id\\': 4294967824, \\'condition_title\\': \\'ccc\\', \\'condition_subject\\': \\'Marketing automation that cuts through the noise\\', \\'condition_from\\': \\'esther@kulea.ma\\', \\'template_id\\': \\'e4cf3f50-dc87-4bc0-9e15-2aa6c2cb5a7e\\', \\'template_title\\': \\'Kulea branded email - Andrew\\', \\'template_link\\': \\'Kulea-branded-email-Andrew\\'}, {\\'event_guid\\': \\'40add710-0441-4f14-9cd3-5d86d03c38d1\\', \\'date\\': \\'20250116-145201\\', \\'type\\': \\'emopened\\', \\'description\\': \\'4294967831 isEmailSent: true\\', \\'crm_id\\': 4295005013, \\'email\\': \\'880newtest@kulea.ma\\', \\'ip_address\\': \\'89.37.64.11\\', \\'user_agent\\': \\'myagentfull\\', \\'bot\\': True, \\'mailshot_id\\': 4294967831, \\'condition_id\\': 4294967824, \\'condition_title\\': \\'ccc\\', \\'condition_subject\\': \\'Marketing automation that cuts through the noise\\', \\'condition_from\\': \\'esther@kulea.ma\\', \\'template_id\\': \\'e4cf3f50-dc87-4bc0-9e15-2aa6c2cb5a7e\\', \\'template_title\\': \\'Kulea branded email - Andrew\\', \\'template_link\\': \\'Kulea-branded-email-Andrew\\'}, {\\'event_guid\\': \\'4389dfee-98f8-499d-92b5-5396f45058f4\\', \\'date\\': \\'20250116-145201\\', \\'type\\': \\'emopened\\', \\'description\\': \\'4294967831 isEmailSent: true\\', \\'crm_id\\': 4295004999, \\'email\\': \\'866newtest@kulea.ma\\', \\'ip_address\\': \\'89.37.64.11\\', \\'user_agent\\': \\'myagentfull\\', \\'bot\\': True, \\'mailshot_id\\': 4294967831, \\'condition_id\\': 4294967824, \\'condition_title\\': \\'ccc\\', \\'condition_subject\\': \\'Marketing automation that cuts through the noise\\', \\'condition_from\\': \\'esther@kulea.ma\\', \\'template_id\\': \\'e4cf3f50-dc87-4bc0-9e15-2aa6c2cb5a7e\\', \\'template_title\\': \\'Kulea branded email - Andrew\\', \\'template_link\\': \\'Kulea-branded-email-Andrew\\'}, {\\'event_guid\\': \\'9427223b-c7c7-4668-af24-c0f91c49a994\\', \\'date\\': \\'20250116-145201\\', \\'type\\': \\'emdelivery\\', \\'description\\': \\'4294967831\\', \\'crm_id\\': 4295001733, \\'email\\': \\'9523test@kulea.ma\\', \\'ip_address\\': \\'\\', \\'user_agent\\': \\'\\', \\'bot\\': False, \\'mailshot_id\\': 4294967831, \\'condition_id\\': 4294967824, \\'condition_title\\': \\'ccc\\', \\'condition_subject\\': \\'Marketing automation that cuts through the noise\\', \\'condition_from\\': \\'esther@kulea.ma\\', \\'template_id\\': \\'e4cf3f50-dc87-4bc0-9e15-2aa6c2cb5a7e\\', \\'template_title\\': \\'Kulea branded email - Andrew\\', \\'template_link\\': \\'Kulea-branded-email-Andrew\\'}, {\\'event_guid\\': \\'94b50695-f96f-490c-80a8-601a5a6d388e\\', \\'date\\': \\'20250116-145201\\', \\'type\\': \\'emdelivery\\', \\'description\\': \\'4294967831\\', \\'crm_id\\': 4295004922, \\'email\\': \\'789newtest@kulea.ma\\', \\'ip_address\\': \\'\\', \\'user_agent\\': \\'\\', \\'bot\\': False, \\'mailshot_id\\': 4294967831, \\'condition_id\\': 4294967824, \\'condition_title\\': \\'ccc\\', \\'condition_subject\\': \\'Marketing automation that cuts through the noise\\', \\'condition_from\\': \\'esther@kulea.ma\\', \\'template_id\\': \\'e4cf3f50-dc87-4bc0-9e15-2aa6c2cb5a7e\\', \\'template_title\\': \\'Kulea branded email - Andrew\\', \\'template_link\\': \\'Kulea-branded-email-Andrew\\'}, {\\'event_guid\\': \\'984b8a95-09a1-46cc-a302-e65afc58440b\\', \\'date\\': \\'20250116-145201\\', \\'type\\': \\'emopened\\', \\'description\\': \\'4294967829 isEmailSent: true\\', \\'crm_id\\': 4295001085, \\'email\\': \\'8875test@kulea.ma\\', \\'ip_address\\': \\'89.37.64.11\\', \\'user_agent\\': \\'Mozilla/5.0 (X11; CrOS x86_64 14541.0.0) AppleWebKit/537.36 (KHTML, like Gecko) Chrome/130.0.0.0 Safari/537.36\\', \\'bot\\': False, \\'mailshot_id\\': 4294967829, \\'condition_id\\': 4294967822, \\'condition_title\\': \\'eee\\', \\'condition_subject\\': \\'Marketing automation that cuts through the noise\\', \\'condition_from\\': \\'esther@kulea.ma\\', \\'template_id\\': \\'e4cf3f50-dc87-4bc0-9e15-2aa6c2cb5a7e\\', \\'template_title\\': \\'Kulea branded email - Andrew\\', \\'template_link\\': \\'Kulea-branded-email-Andrew\\'}, {\\'event_guid\\': \\'9f455886-3a46-4217-b8f4-37c2df68d2a9\\', \\'date\\': \\'20250116-145201\\', \\'type\\': \\'emopened\\', \\'description\\': \\'4294967831 isEmailSent: true\\', \\'crm_id\\': 4294992238, \\'email\\': \\'28test@kulea.ma\\', \\'ip_address\\': \\'89.37.64.11\\', \\'user_agent\\': \\'myagentfull\\', \\'bot\\': True, \\'mailshot_id\\': 4294967831, \\'condition_id\\': 4294967824, \\'condition_title\\': \\'ccc\\', \\'condition_subject\\': \\'Marketing automation that cuts through the noise\\', \\'condition_from\\': \\'esther@kulea.ma\\', \\'template_id\\': \\'e4cf3f50-dc87-4bc0-9e15-2aa6c2cb5a7e\\', \\'template_title\\': \\'Kulea branded email - Andrew\\', \\'template_link\\': \\'Kulea-branded-email-Andrew\\'}, {\\'event_guid\\': \\'ae1c25b3-2161-4d1f-91ab-3743d7356626\\', \\'date\\': \\'20250116-145201\\', \\'type\\': \\'emdelivery\\', \\'description\\': \\'4294967831\\', \\'crm_id\\': 4294998546, \\'email\\': \\'6336test@kulea.ma\\', \\'ip_address\\': \\'\\', \\'user_agent\\': \\'\\', \\'bot\\': False, \\'mailshot_id\\': 4294967831, \\'condition_id\\': 4294967824, \\'condition_title\\': \\'ccc\\', \\'condition_subject\\': \\'Marketing automation that cuts through the noise\\', \\'condition_from\\': \\'esther@kulea.ma\\', \\'template_id\\': \\'e4cf3f50-dc87-4bc0-9e15-2aa6c2cb5a7e\\', \\'template_title\\': \\'Kulea branded email - Andrew\\', \\'template_link\\': \\'Kulea-branded-email-Andrew\\'}, {\\'event_guid\\': \\'c1bc9ffe-5a2b-44aa-bcd3-8d46ce8790b0\\', \\'date\\': \\'20250116-145201\\', \\'type\\': \\'emdelivery\\', \\'description\\': \\'4294967831\\', \\'crm_id\\': 4295002109, \\'email\\': \\'9899test@kulea.ma\\', \\'ip_address\\': \\'\\', \\'user_agent\\': \\'\\', \\'bot\\': False, \\'mailshot_id\\': 4294967831, \\'condition_id\\': 4294967824, \\'condition_title\\': \\'ccc\\', \\'condition_subject\\': \\'Marketing automation that cuts through the noise\\', \\'condition_from\\': \\'esther@kulea.ma\\', \\'template_id\\': \\'e4cf3f50-dc87-4bc0-9e15-2aa6c2cb5a7e\\', \\'template_title\\': \\'Kulea branded email - Andrew\\', \\'template_link\\': \\'Kulea-branded-email-Andrew\\'}, {\\'event_guid\\': \\'c281d703-0314-48a1-914e-c13bfa22169d\\', \\'date\\': \\'20250116-145201\\', \\'type\\': \\'emdelivery\\', \\'description\\': \\'4294967829\\', \\'crm_id\\': 4295000475, \\'email\\': \\'8265test@kulea.ma\\', \\'ip_address\\': \\'\\', \\'user_agent\\': \\'\\', \\'bot\\': False, \\'mailshot_id\\': 4294967829, \\'condition_id\\': 4294967822, \\'condition_title\\': \\'eee\\', \\'condition_subject\\': \\'Marketing automation that cuts through the noise\\', \\'condition_from\\': \\'esther@kulea.ma\\', \\'template_id\\': \\'e4cf3f50-dc87-4bc0-9e15-2aa6c2cb5a7e\\', \\'template_title\\': \\'Kulea branded email - Andrew\\', \\'template_link\\': \\'Kulea-branded-email-Andrew\\'}, {\\'event_guid\\': \\'e9b1a68c-d003-4969-a2e4-97f733264314\\', \\'date\\': \\'20250116-145201\\', \\'type\\': \\'emdelivery\\', \\'description\\': \\'4294967831\\', \\'crm_id\\': 4294994326, \\'email\\': \\'2116test@kulea.ma\\', \\'ip_address\\': \\'\\', \\'user_agent\\': \\'\\', \\'bot\\': False, \\'mailshot_id\\': 4294967831, \\'condition_id\\': 4294967824, \\'condition_title\\': \\'ccc\\', \\'condition_subject\\': \\'Marketing automation that cuts through the noise\\', \\'condition_from\\': \\'esther@kulea.ma\\', \\'template_id\\': \\'e4cf3f50-dc87-4bc0-9e15-2aa6c2cb5a7e\\', \\'template_title\\': \\'Kulea branded email - Andrew\\', \\'template_link\\': \\'Kulea-branded-email-Andrew\\'}, {\\'event_guid\\': \\'eaa800b5-3f46-4faa-a57f-db806be55150\\', \\'date\\': \\'20250116-145201\\', \\'type\\': \\'emdelivery\\', \\'description\\': \\'4294967831\\', \\'crm_id\\': 4294992331, \\'email\\': \\'121test@kulea.ma\\', \\'ip_address\\': \\'\\', \\'user_agent\\': \\'\\', \\'bot\\': False, \\'mailshot_id\\': 4294967831, \\'condition_id\\': 4294967824, \\'condition_title\\': \\'ccc\\', \\'condition_subject\\': \\'Marketing automation that cuts through the noise\\', \\'condition_from\\': \\'esther@kulea.ma\\', \\'template_id\\': \\'e4cf3f50-dc87-4bc0-9e15-2aa6c2cb5a7e\\', \\'template_title\\': \\'Kulea branded email - Andrew\\', \\'template_link\\': \\'Kulea-branded-email-Andrew\\'}, {\\'event_guid\\': \\'ef1ae25e-d782-492f-b859-d5af8bbd725a\\', \\'date\\': \\'20250116-145201\\', \\'type\\': \\'emopened\\', \\'description\\': \\'4294967831 isEmailSent: true\\', \\'crm_id\\': 4294993918, \\'email\\': \\'1708test@kulea.ma\\', \\'ip_address\\': \\'89.37.64.11\\', \\'user_agent\\': \\'myagentfull\\', \\'bot\\': True, \\'mailshot_id\\': 4294967831, \\'condition_id\\': 4294967824, \\'condition_title\\': \\'ccc\\', \\'condition_subject\\': \\'Marketing automation that cuts through the noise\\', \\'condition_from\\': \\'esther@kulea.ma\\', \\'template_id\\': \\'e4cf3f50-dc87-4bc0-9e15-2aa6c2cb5a7e\\', \\'template_title\\': \\'Kulea branded email - Andrew\\', \\'template_link\\': \\'Kulea-branded-email-Andrew\\'}, {\\'event_guid\\': \\'088730c9-bc7c-4cc7-8474-41a94b2364c6\\', \\'date\\': \\'20250116-145200\\', \\'type\\': \\'emdelivery\\', \\'description\\': \\'4294967831\\', \\'crm_id\\': 4295001599, \\'email\\': \\'9389test@kulea.ma\\', \\'ip_address\\': \\'\\', \\'user_agent\\': \\'\\', \\'bot\\': False, \\'mailshot_id\\': 4294967831, \\'condition_id\\': 4294967824, \\'condition_title\\': \\'ccc\\', \\'condition_subject\\': \\'Marketing automation that cuts through the noise\\', \\'condition_from\\': \\'esther@kulea.ma\\', \\'template_id\\': \\'e4cf3f50-dc87-4bc0-9e15-2aa6c2cb5a7e\\', \\'template_title\\': \\'Kulea branded email - Andrew\\', \\'template_link\\': \\'Kulea-branded-email-Andrew\\'}, {\\'event_guid\\': \\'10fac209-205e-4842-bb7e-c3dd3940f4fa\\', \\'date\\': \\'20250116-145200\\', \\'type\\': \\'emdelivery\\', \\'description\\': \\'4294967831\\', \\'crm_id\\': 4294992968, \\'email\\': \\'758test@kulea.ma\\', \\'ip_address\\': \\'\\', \\'user_agent\\': \\'\\', \\'bot\\': False, \\'mailshot_id\\': 4294967831, \\'condition_id\\': 4294967824, \\'condition_title\\': \\'ccc\\', \\'condition_subject\\': \\'Marketing automation that cuts through the noise\\', \\'condition_from\\': \\'esther@kulea.ma\\', \\'template_id\\': \\'e4cf3f50-dc87-4bc0-9e15-2aa6c2cb5a7e\\', \\'template_title\\': \\'Kulea branded email - Andrew\\', \\'template_link\\': \\'Kulea-branded-email-Andrew\\'}, {\\'event_guid\\': \\'21089dd3-5de9-455b-ba2a-670709dfbd18\\', \\'date\\': \\'20250116-145200\\', \\'type\\': \\'emopened\\', \\'description\\': \\'4294967818 isEmailSent: true\\', \\'crm_id\\': 4294995321, \\'email\\': \\'3111test@kulea.ma\\', \\'ip_address\\': \\'89.37.64.11\\', \\'user_agent\\': \\'myagentfull\\', \\'bot\\': True, \\'mailshot_id\\': 4294967818, \\'condition_id\\': 4294967811, \\'condition_title\\': \\'Euro stagger unsubscribe test\\', \\'condition_subject\\': \\'Mel milking it\\', \\'condition_from\\': \\'andrew@kulea.ma\\', \\'template_id\\': \\'e49af120-9a1f-4ab2-8a15-db58cad776b5\\', \\'template_title\\': \\'Personal email\\', \\'template_link\\': \\'Personal-email\\'}, {\\'event_guid\\': \\'210c08b1-ecef-4184-ad78-26880ea9734b\\', \\'date\\': \\'20250116-145200\\', \\'type\\': \\'emopened\\', \\'description\\': \\'4294967829 isEmailSent: true\\', \\'crm_id\\': 4295000845, \\'email\\': \\'8635test@kulea.ma\\', \\'ip_address\\': \\'89.37.64.11\\', \\'user_agent\\': \\'myagentfull\\', \\'bot\\': True, \\'mailshot_id\\': 4294967829, \\'condition_id\\': 4294967822, \\'condition_title\\': \\'eee\\', \\'condition_subject\\': \\'Marketing automation that cuts through the noise\\', \\'condition_from\\': \\'esther@kulea.ma\\', \\'template_id\\': \\'e4cf3f50-dc87-4bc0-9e15-2aa6c2cb5a7e\\', \\'template_title\\': \\'Kulea branded email - Andrew\\', \\'template_link\\': \\'Kulea-branded-email-Andrew\\'}, {\\'event_guid\\': \\'318c9208-77ee-45c4-b641-eed920185390\\', \\'date\\': \\'20250116-145200\\', \\'type\\': \\'emdelivery\\', \\'description\\': \\'4294967831\\', \\'crm_id\\': 4294995001, \\'email\\': \\'2791test@kulea.ma\\', \\'ip_address\\': \\'\\', \\'user_agent\\': \\'\\', \\'bot\\': False, \\'mailshot_id\\': 4294967831, \\'condition_id\\': 4294967824, \\'condition_title\\': \\'ccc\\', \\'condition_subject\\': \\'Marketing automation that cuts through the noise\\', \\'condition_from\\': \\'esther@kulea.ma\\', \\'template_id\\': \\'e4cf3f50-dc87-4bc0-9e15-2aa6c2cb5a7e\\', \\'template_title\\': \\'Kulea branded email - Andrew\\', \\'template_link\\': \\'Kulea-branded-email-Andrew\\'}, {\\'event_guid\\': \\'69c3abfb-b68e-46ee-afaa-0fd6a7918be0\\', \\'date\\': \\'20250116-145200\\', \\'type\\': \\'emdelivery\\', \\'description\\': \\'4294967831\\', \\'crm_id\\': 4294994788, \\'email\\': \\'2578test@kulea.ma\\', \\'ip_address\\': \\'\\', \\'user_agent\\': \\'\\', \\'bot\\': False, \\'mailshot_id\\': 4294967831, \\'condition_id\\': 4294967824, \\'condition_title\\': \\'ccc\\', \\'condition_subject\\': \\'Marketing automation that cuts through the noise\\', \\'condition_from\\': \\'esther@kulea.ma\\', \\'template_id\\': \\'e4cf3f50-dc87-4bc0-9e15-2aa6c2cb5a7e\\', \\'template_title\\': \\'Kulea branded email - Andrew\\', \\'template_link\\': \\'Kulea-branded-email-Andrew\\'}, {\\'event_guid\\': \\'7be1d2a4-8fe2-471e-a2ea-ed86c4f4d667\\', \\'date\\': \\'20250116-145200\\', \\'type\\': \\'emopened\\', \\'description\\': \\'4294967831 isEmailSent: true\\', \\'crm_id\\': 4295002192, \\'email\\': \\'9982test@kulea.ma\\', \\'ip_address\\': \\'89.37.64.11\\', \\'user_agent\\': \\'myagentfull\\', \\'bot\\': True, \\'mailshot_id\\': 4294967831, \\'condition_id\\': 4294967824, \\'condition_title\\': \\'ccc\\', \\'condition_subject\\': \\'Marketing automation that cuts through the noise\\', \\'condition_from\\': \\'esther@kulea.ma\\', \\'template_id\\': \\'e4cf3f50-dc87-4bc0-9e15-2aa6c2cb5a7e\\', \\'template_title\\': \\'Kulea branded email - Andrew\\', \\'template_link\\': \\'Kulea-branded-email-Andrew\\'}, {\\'event_guid\\': \\'7ccbed9a-eab5-4bbf-916d-304969ad822b\\', \\'date\\': \\'20250116-145200\\', \\'type\\': \\'emdelivery\\', \\'description\\': \\'4294967831\\', \\'crm_id\\': 4294998064, \\'email\\': \\'5854test@kulea.ma\\', \\'ip_address\\': \\'\\', \\'user_agent\\': \\'\\', \\'bot\\': False, \\'mailshot_id\\': 4294967831, \\'condition_id\\': 4294967824, \\'condition_title\\': \\'ccc\\', \\'condition_subject\\': \\'Marketing automation that cuts through the noise\\', \\'condition_from\\': \\'esther@kulea.ma\\', \\'template_id\\': \\'e4cf3f50-dc87-4bc0-9e15-2aa6c2cb5a7e\\', \\'template_title\\': \\'Kulea branded email - Andrew\\', \\'template_link\\': \\'Kulea-branded-email-Andrew\\'}, {\\'event_guid\\': \\'7d235fbe-4a67-411a-a422-65a11e12ad96\\', \\'date\\': \\'20250116-145200\\', \\'type\\': \\'emdelivery\\', \\'description\\': \\'4294967831\\', \\'crm_id\\': 4294992317, \\'email\\': \\'107test@kulea.ma\\', \\'ip_address\\': \\'\\', \\'user_agent\\': \\'\\', \\'bot\\': False, \\'mailshot_id\\': 4294967831, \\'condition_id\\': 4294967824, \\'condition_title\\': \\'ccc\\', \\'condition_subject\\': \\'Marketing automation that cuts through the noise\\', \\'condition_from\\': \\'esther@kulea.ma\\', \\'template_id\\': \\'e4cf3f50-dc87-4bc0-9e15-2aa6c2cb5a7e\\', \\'template_title\\': \\'Kulea branded email - Andrew\\', \\'template_link\\': \\'Kulea-branded-email-Andrew\\'}, {\\'event_guid\\': \\'7ff72d98-e7bc-4a09-bd99-fd46d1f941ba\\', \\'date\\': \\'20250116-145200\\', \\'type\\': \\'emdelivery\\', \\'description\\': \\'4294967831\\', \\'crm_id\\': 4294998479, \\'email\\': \\'6269test@kulea.ma\\', \\'ip_address\\': \\'\\', \\'user_agent\\': \\'\\', \\'bot\\': False, \\'mailshot_id\\': 4294967831, \\'condition_id\\': 4294967824, \\'condition_title\\': \\'ccc\\', \\'condition_subject\\': \\'Marketing automation that cuts through the noise\\', \\'condition_from\\': \\'esther@kulea.ma\\', \\'template_id\\': \\'e4cf3f50-dc87-4bc0-9e15-2aa6c2cb5a7e\\', \\'template_title\\': \\'Kulea branded email - Andrew\\', \\'template_link\\': \\'Kulea-branded-email-Andrew\\'}, {\\'event_guid\\': \\'98a76ddf-6b0b-453e-92d1-594e01385bba\\', \\'date\\': \\'20250116-145200\\', \\'type\\': \\'emdelivery\\', \\'description\\': \\'4294967831\\', \\'crm_id\\': 4294995447, \\'email\\': \\'3237test@kulea.ma\\', \\'ip_address\\': \\'\\', \\'user_agent\\': \\'\\', \\'bot\\': False, \\'mailshot_id\\': 4294967831, \\'condition_id\\': 4294967824, \\'condition_title\\': \\'ccc\\', \\'condition_subject\\': \\'Marketing automation that cuts through the noise\\', \\'condition_from\\': \\'esther@kulea.ma\\', \\'template_id\\': \\'e4cf3f50-dc87-4bc0-9e15-2aa6c2cb5a7e\\', \\'template_title\\': \\'Kulea branded email - Andrew\\', \\'template_link\\': \\'Kulea-branded-email-Andrew\\'}, {\\'event_guid\\': \\'a81dd5f8-3cac-44c8-b647-336db36d86c1\\', \\'date\\': \\'20250116-145200\\', \\'type\\': \\'emdelivery\\', \\'description\\': \\'4294967831\\', \\'crm_id\\': 4295002153, \\'email\\': \\'9943test@kulea.ma\\', \\'ip_address\\': \\'\\', \\'user_agent\\': \\'\\', \\'bot\\': False, \\'mailshot_id\\': 4294967831, \\'condition_id\\': 4294967824, \\'condition_title\\': \\'ccc\\', \\'condition_subject\\': \\'Marketing automation that cuts through the noise\\', \\'condition_from\\': \\'esther@kulea.ma\\', \\'template_id\\': \\'e4cf3f50-dc87-4bc0-9e15-2aa6c2cb5a7e\\', \\'template_title\\': \\'Kulea branded email - Andrew\\', \\'template_link\\': \\'Kulea-branded-email-Andrew\\'}, {\\'event_guid\\': \\'abe21773-c4ce-4b32-b845-727df7ce4d16\\', \\'date\\': \\'20250116-145200\\', \\'type\\': \\'emdelivery\\', \\'description\\': \\'4294967831\\', \\'crm_id\\': 4294992727, \\'email\\': \\'517test@kulea.ma\\', \\'ip_address\\': \\'\\', \\'user_agent\\': \\'\\', \\'bot\\': False, \\'mailshot_id\\': 4294967831, \\'condition_id\\': 4294967824, \\'condition_title\\': \\'ccc\\', \\'condition_subject\\': \\'Marketing automation that cuts through the noise\\', \\'condition_from\\': \\'esther@kulea.ma\\', \\'template_id\\': \\'e4cf3f50-dc87-4bc0-9e15-2aa6c2cb5a7e\\', \\'template_title\\': \\'Kulea branded email - Andrew\\', \\'template_link\\': \\'Kulea-branded-email-Andrew\\'}, {\\'event_guid\\': \\'c701d59b-94f0-43c2-8ee3-185978fced89\\', \\'date\\': \\'20250116-145200\\', \\'type\\': \\'emdelivery\\', \\'description\\': \\'4294967831\\', \\'crm_id\\': 4294998717, \\'email\\': \\'6507test@kulea.ma\\', \\'ip_address\\': \\'\\', \\'user_agent\\': \\'\\', \\'bot\\': False, \\'mailshot_id\\': 4294967831, \\'condition_id\\': 4294967824, \\'condition_title\\': \\'ccc\\', \\'condition_subject\\': \\'Marketing automation that cuts through the noise\\', \\'condition_from\\': \\'esther@kulea.ma\\', \\'template_id\\': \\'e4cf3f50-dc87-4bc0-9e15-2aa6c2cb5a7e\\', \\'template_title\\': \\'Kulea branded email - Andrew\\', \\'template_link\\': \\'Kulea-branded-email-Andrew\\'}, {\\'event_guid\\': \\'f4030a1f-4f37-4dc7-a3e6-47da2f086f4e\\', \\'date\\': \\'20250116-145200\\', \\'type\\': \\'emdelivery\\', \\'description\\': \\'4294967831\\', \\'crm_id\\': 4294993333, \\'email\\': \\'1123test@kulea.ma\\', \\'ip_address\\': \\'\\', \\'user_agent\\': \\'\\', \\'bot\\': False, \\'mailshot_id\\': 4294967831, \\'condition_id\\': 4294967824, \\'condition_title\\': \\'ccc\\', \\'condition_subject\\': \\'Marketing automation that cuts through the noise\\', \\'condition_from\\': \\'esther@kulea.ma\\', \\'template_id\\': \\'e4cf3f50-dc87-4bc0-9e15-2aa6c2cb5a7e\\', \\'template_title\\': \\'Kulea branded email - Andrew\\', \\'template_link\\': \\'Kulea-branded-email-Andrew\\'}, {\\'event_guid\\': \\'febf777c-bf13-44ec-92bc-2ed972e7990c\\', \\'date\\': \\'20250116-145200\\', \\'type\\': \\'emopened\\', \\'description\\': \\'4294967831 isEmailSent: true\\', \\'crm_id\\': 4294997370, \\'email\\': \\'5160test@kulea.ma\\', \\'ip_address\\': \\'89.37.64.11\\', \\'user_agent\\': \\'Mozilla/5.0 (Linux; Android 10; K) AppleWebKit/537.36 (KHTML, like Gecko) Chrome/131.0.0.0 Mobile Safari/537.36\\', \\'bot\\': False, \\'mailshot_id\\': 4294967831, \\'condition_id\\': 4294967824, \\'condition_title\\': \\'ccc\\', \\'condition_subject\\': \\'Marketing automation that cuts through the noise\\', \\'condition_from\\': \\'esther@kulea.ma\\', \\'template_id\\': \\'e4cf3f50-dc87-4bc0-9e15-2aa6c2cb5a7e\\', \\'template_title\\': \\'Kulea branded email - Andrew\\', \\'template_link\\': \\'Kulea-branded-email-Andrew\\'}, {\\'event_guid\\': \\'0aa0d682-a692-4279-a5c2-1b18115dfb45\\', \\'date\\': \\'20250116-145159\\', \\'type\\': \\'emdelivery\\', \\'description\\': \\'4294967831\\', \\'crm_id\\': 4294998555, \\'email\\': \\'6345test@kulea.ma\\', \\'ip_address\\': \\'\\', \\'user_agent\\': \\'\\', \\'bot\\': False, \\'mailshot_id\\': 4294967831, \\'condition_id\\': 4294967824, \\'condition_title\\': \\'ccc\\', \\'condition_subject\\': \\'Marketing automation that cuts through the noise\\', \\'condition_from\\': \\'esther@kulea.ma\\', \\'template_id\\': \\'e4cf3f50-dc87-4bc0-9e15-2aa6c2cb5a7e\\', \\'template_title\\': \\'Kulea branded email - Andrew\\', \\'template_link\\': \\'Kulea-branded-email-Andrew\\'}, {\\'event_guid\\': \\'0aa91d3b-4bbb-4937-ae32-f132fe2eaf7c\\', \\'date\\': \\'20250116-145159\\', \\'type\\': \\'emdelivery\\', \\'description\\': \\'4294967831\\', \\'crm_id\\': 4294994615, \\'email\\': \\'2405test@kulea.ma\\', \\'ip_address\\': \\'\\', \\'user_agent\\': \\'\\', \\'bot\\': False, \\'mailshot_id\\': 4294967831, \\'condition_id\\': 4294967824, \\'condition_title\\': \\'ccc\\', \\'condition_subject\\': \\'Marketing automation that cuts through the noise\\', \\'condition_from\\': \\'esther@kulea.ma\\', \\'template_id\\': \\'e4cf3f50-dc87-4bc0-9e15-2aa6c2cb5a7e\\', \\'template_title\\': \\'Kulea branded email - Andrew\\', \\'template_link\\': \\'Kulea-branded-email-Andrew\\'}, {\\'event_guid\\': \\'11f41091-2464-45a7-a198-48ab441aefa6\\', \\'date\\': \\'20250116-145159\\', \\'type\\': \\'emdelivery\\', \\'description\\': \\'4294967831\\', \\'crm_id\\': 4294992238, \\'email\\': \\'28test@kulea.ma\\', \\'ip_address\\': \\'\\', \\'user_agent\\': \\'\\', \\'bot\\': False, \\'mailshot_id\\': 4294967831, \\'condition_id\\': 4294967824, \\'condition_title\\': \\'ccc\\', \\'condition_subject\\': \\'Marketing automation that cuts through the noise\\', \\'condition_from\\': \\'esther@kulea.ma\\', \\'template_id\\': \\'e4cf3f50-dc87-4bc0-9e15-2aa6c2cb5a7e\\', \\'template_title\\': \\'Kulea branded email - Andrew\\', \\'template_link\\': \\'Kulea-branded-email-Andrew\\'}, {\\'event_guid\\': \\'1902169f-5c29-4f2e-b9c9-ca5a83826ff2\\', \\'date\\': \\'20250116-145159\\', \\'type\\': \\'emdelivery\\', \\'description\\': \\'4294967818\\', \\'crm_id\\': 4294995321, \\'email\\': \\'3111test@kulea.ma\\', \\'ip_address\\': \\'\\', \\'user_agent\\': \\'\\', \\'bot\\': False, \\'mailshot_id\\': 4294967818, \\'condition_id\\': 4294967811, \\'condition_title\\': \\'Euro stagger unsubscribe test\\', \\'condition_subject\\': \\'Mel milking it\\', \\'condition_from\\': \\'andrew@kulea.ma\\', \\'template_id\\': \\'e49af120-9a1f-4ab2-8a15-db58cad776b5\\', \\'template_title\\': \\'Personal email\\', \\'template_link\\': \\'Personal-email\\'}, {\\'event_guid\\': \\'1e7bca12-5dc1-4bd7-9fb9-0f5cd4229c96\\', \\'date\\': \\'20250116-145159\\', \\'type\\': \\'emdelivery\\', \\'description\\': \\'4294967831\\', \\'crm_id\\': 4295005031, \\'email\\': \\'898newtest@kulea.ma\\', \\'ip_address\\': \\'\\', \\'user_agent\\': \\'\\', \\'bot\\': False, \\'mailshot_id\\': 4294967831, \\'condition_id\\': 4294967824, \\'condition_title\\': \\'ccc\\', \\'condition_subject\\': \\'Marketing automation that cuts through the noise\\', \\'condition_from\\': \\'esther@kulea.ma\\', \\'template_id\\': \\'e4cf3f50-dc87-4bc0-9e15-2aa6c2cb5a7e\\', \\'template_title\\': \\'Kulea branded email - Andrew\\', \\'template_link\\': \\'Kulea-branded-email-Andrew\\'}, {\\'event_guid\\': \\'2987eb48-0e9b-47d0-bb52-ab3b7fb0f335\\', \\'date\\': \\'20250116-145159\\', \\'type\\': \\'emdelivery\\', \\'description\\': \\'4294967831\\', \\'crm_id\\': 4294994250, \\'email\\': \\'2040test@kulea.ma\\', \\'ip_address\\': \\'\\', \\'user_agent\\': \\'\\', \\'bot\\': False, \\'mailshot_id\\': 4294967831, \\'condition_id\\': 4294967824, \\'condition_title\\': \\'ccc\\', \\'condition_subject\\': \\'Marketing automation that cuts through the noise\\', \\'condition_from\\': \\'esther@kulea.ma\\', \\'template_id\\': \\'e4cf3f50-dc87-4bc0-9e15-2aa6c2cb5a7e\\', \\'template_title\\': \\'Kulea branded email - Andrew\\', \\'template_link\\': \\'Kulea-branded-email-Andrew\\'}, {\\'event_guid\\': \\'2b81d85d-6336-4a58-bb20-d5f7c5416115\\', \\'date\\': \\'20250116-145159\\', \\'type\\': \\'emdelivery\\', \\'description\\': \\'4294967831\\', \\'crm_id\\': 4295001330, \\'email\\': \\'9120test@kulea.ma\\', \\'ip_address\\': \\'\\', \\'user_agent\\': \\'\\', \\'bot\\': False, \\'mailshot_id\\': 4294967831, \\'condition_id\\': 4294967824, \\'condition_title\\': \\'ccc\\', \\'condition_subject\\': \\'Marketing automation that cuts through the noise\\', \\'condition_from\\': \\'esther@kulea.ma\\', \\'template_id\\': \\'e4cf3f50-dc87-4bc0-9e15-2aa6c2cb5a7e\\', \\'template_title\\': \\'Kulea branded email - Andrew\\', \\'template_link\\': \\'Kulea-branded-email-Andrew\\'}, {\\'event_guid\\': \\'2c86fec8-eed7-4b79-a9c9-a80be2aa9b5a\\', \\'date\\': \\'20250116-145159\\', \\'type\\': \\'emdelivery\\', \\'description\\': \\'4294967831\\', \\'crm_id\\': 4294994633, \\'email\\': \\'2423test@kulea.ma\\', \\'ip_address\\': \\'\\', \\'user_agent\\': \\'\\', \\'bot\\': False, \\'mailshot_id\\': 4294967831, \\'condition_id\\': 4294967824, \\'condition_title\\': \\'ccc\\', \\'condition_subject\\': \\'Marketing automation that cuts through the noise\\', \\'condition_from\\': \\'esther@kulea.ma\\', \\'template_id\\': \\'e4cf3f50-dc87-4bc0-9e15-2aa6c2cb5a7e\\', \\'template_title\\': \\'Kulea branded email - Andrew\\', \\'template_link\\': \\'Kulea-branded-email-Andrew\\'}, {\\'event_guid\\': \\'31d7bec2-9a2b-4fee-91ee-228b40527853\\', \\'date\\': \\'20250116-145159\\', \\'type\\': \\'emdelivery\\', \\'description\\': \\'4294967836\\', \\'crm_id\\': 4295008739, \\'email\\': \\'drew@kulea.ma\\', \\'ip_address\\': \\'\\', \\'user_agent\\': \\'\\', \\'bot\\': False, \\'mailshot_id\\': 4294967836, \\'condition_id\\': 4294967827, \\'condition_title\\': \\'list-unsubscribe true\\', \\'condition_subject\\': \\'Marketing automation that cuts through the noise\\', \\'condition_from\\': \\'esther@kulea.ma\\', \\'template_id\\': \\'e4cf3f50-dc87-4bc0-9e15-2aa6c2cb5a7e\\', \\'template_title\\': \\'Kulea branded email - Andrew\\', \\'template_link\\': \\'Kulea-branded-email-Andrew\\'}] and schema \\n[\\n  { \"name\": \"event_guid\", \"type\": \"str\", \"example_values\": null },\\n  { \"name\": \"date\", \"type\": \"str\", \"example_values\": null },\\n  { \"name\": \"type\", \"type\": \"str\", \"example_values\": [\"emopened\", \"emclickedlink\", \"emdelivery\"] },\\n  { \"name\": \"description\", \"type\": \"str\", \"example_values\": null },\\n  { \"name\": \"crm_id\", \"type\": \"int\", \"example_values\": null },\\n  { \"name\": \"email\", \"type\": \"str\", \"example_values\": null },\\n  { \"name\": \"ip_address\", \"type\": \"str\", \"example_values\": null },\\n  { \"name\": \"user_agent\", \"type\": \"str\", \"example_values\": null },\\n  { \"name\": \"bot\", \"type\": \"bool\", \"example_values\": [false, true] },\\n  { \"name\": \"mailshot_id\", \"type\": \"int\", \"example_values\": null },\\n  { \"name\": \"condition_id\", \"type\": \"int\", \"example_values\": null },\\n  { \"name\": \"condition_title\", \"type\": \"str\", \"example_values\": [\\n    \"Example 1\", \"Form Thank you - Kulea demo1\", \"Test2\", \"test run\",\\n    \"Andrew Nicholson\", \"ccc\", \"eee\", \"Euro stagger unsubscribe test\", \"list-unsubscribe true\"\\n  ]},\\n  { \"name\": \"condition_subject\", \"type\": \"str\", \"example_values\": [\\n    \"Please don\\'t open yet\", \"Wild test with to data\", \"Mel milking it\", \\n    \"Marketing automation that cuts through the noise\"\\n  ]},\\n  { \"name\": \"condition_from\", \"type\": \"str\", \"example_values\": [\\n    \"andy@kulea.ma\", \"andrew@kulea.co.uk\", \"andrew@kulea.ma\", \\n    \"roc@kulea.ma\", \"esther@kulea.ma\"\\n  ]},\\n  { \"name\": \"template_id\", \"type\": \"str\", \"example_values\": [\\n    \"fa7cf62d-963e-41c2-abd1-2980a86e3ec4\", \\n    \"e49af120-9a1f-4ab2-8a15-db58cad776b5\", \\n    \"e4cf3f50-dc87-4bc0-9e15-2aa6c2cb5a7e\"\\n  ]},\\n  { \"name\": \"template_title\", \"type\": \"str\", \"example_values\": [\\n    \"Test 1\", \"Wild.London\", \"Personal email\", \"Kulea branded email - Andrew\"\\n  ]},\\n  { \"name\": \"template_link\", \"type\": \"str\", \"example_values\": [\\n    \"Test-1\", \"Wild-London\", \"Personal-email\", \"Kulea-branded-email-Andrew\"\\n  ]}\\n]\\n, create examples of natural language \\nqueries that can be used to generate SQL queries in order to test a text-2-SQL approach. Provides both \\nsimple query example based on one column and more complex queries based on multiples columns, including \\nexamples in which LAG and WITH SQL clauses are required.\\n'"
      ]
     },
     "execution_count": 111,
     "metadata": {},
     "output_type": "execute_result"
    }
   ],
   "source": [
    "prompt1 = f'''Based on the data set {json_data} and schema {schema}, create examples of natural language \n",
    "queries that can be used to generate SQL queries in order to test a text-2-SQL approach. Provides both \n",
    "simple query example based on one column and more complex queries based on multiples columns, including \n",
    "examples in which LAG and WITH SQL clauses are required.\n",
    "'''\n",
    "prompt1"
   ]
  },
  {
   "cell_type": "code",
   "execution_count": 112,
   "metadata": {},
   "outputs": [
    {
     "data": {
      "text/markdown": [
       "> Here are several examples of natural language queries that can be used to generate SQL queries based on the provided dataset and schema. The examples range from simple queries focusing on a single column to more complex queries involving multiple columns, including the use of `LAG` and `WITH` clauses.\n",
       "> \n",
       "> ### Simple Queries (Single Column)\n",
       "> \n",
       "> 1. **Query**: \"Get all event GUIDs.\"\n",
       ">    - **SQL**: `SELECT event_guid FROM events;`\n",
       "> \n",
       "> 2. **Query**: \"List all email addresses.\"\n",
       ">    - **SQL**: `SELECT email FROM events;`\n",
       "> \n",
       "> 3. **Query**: \"Show all unique condition titles.\"\n",
       ">    - **SQL**: `SELECT DISTINCT condition_title FROM events;`\n",
       "> \n",
       "> 4. **Query**: \"What are the types of events recorded?\"\n",
       ">    - **SQL**: `SELECT DISTINCT type FROM events;`\n",
       "> \n",
       "> ### Intermediate Queries (Multiple Columns)\n",
       "> \n",
       "> 5. **Query**: \"Find all events of type 'emopened' with their corresponding email addresses.\"\n",
       ">    - **SQL**: `SELECT event_guid, email FROM events WHERE type = 'emopened';`\n",
       "> \n",
       "> 6. **Query**: \"Get the CRM IDs and their corresponding condition titles for all events.\"\n",
       ">    - **SQL**: `SELECT crm_id, condition_title FROM events;`\n",
       "> \n",
       "> 7. **Query**: \"List all events with the email 'andrew@kulea.ma' and their corresponding dates.\"\n",
       ">    - **SQL**: `SELECT date, type FROM events WHERE email = 'andrew@kulea.ma';`\n",
       "> \n",
       "> 8. **Query**: \"Show the event GUIDs and descriptions for events that were opened by bots.\"\n",
       ">    - **SQL**: `SELECT event_guid, description FROM events WHERE bot = TRUE;`\n",
       "> \n",
       "> ### Complex Queries (Using LAG and WITH Clauses)\n",
       "> \n",
       "> 9. **Query**: \"Get the last event type for each email address.\"\n",
       ">    - **SQL**:\n",
       ">    ```sql\n",
       ">    WITH RankedEvents AS (\n",
       ">        SELECT email, type, \n",
       ">               LAG(type) OVER (PARTITION BY email ORDER BY date) AS previous_type\n",
       ">        FROM events\n",
       ">    )\n",
       ">    SELECT email, type, previous_type FROM RankedEvents;\n",
       ">    ```\n",
       "> \n",
       "> 10. **Query**: \"Find the first and last event dates for each email address.\"\n",
       ">     - **SQL**:\n",
       ">     ```sql\n",
       ">     WITH DateRanges AS (\n",
       ">         SELECT email, \n",
       ">                MIN(date) AS first_event_date, \n",
       ">                MAX(date) AS last_event_date\n",
       ">         FROM events\n",
       ">         GROUP BY email\n",
       ">     )\n",
       ">     SELECT * FROM DateRanges;\n",
       ">     ```\n",
       "> \n",
       "> 11. **Query**: \"List all emails that opened an event and the previous event type they interacted with.\"\n",
       ">     - **SQL**:\n",
       ">     ```sql\n",
       ">     WITH RankedEvents AS (\n",
       ">         SELECT email, type, \n",
       ">                LAG(type) OVER (PARTITION BY email ORDER BY date) AS previous_type\n",
       ">         FROM events\n",
       ">     )\n",
       ">     SELECT email, type, previous_type \n",
       ">     FROM RankedEvents \n",
       ">     WHERE type = 'emopened';\n",
       ">     ```\n",
       "> \n",
       "> 12. **Query**: \"Get the count of events for each condition title and the last event date for each.\"\n",
       ">     - **SQL**:\n",
       ">     ```sql\n",
       ">     WITH EventCounts AS (\n",
       ">         SELECT condition_title, COUNT(*) AS event_count, \n",
       ">                MAX(date) AS last_event_date\n",
       ">         FROM events\n",
       ">         GROUP BY condition_title\n",
       ">     )\n",
       ">     SELECT * FROM EventCounts;\n",
       ">     ```\n",
       "> \n",
       "> These examples can be used to test a text-to-SQL approach by converting the natural language queries into SQL queries that can be executed against the provided dataset."
      ],
      "text/plain": [
       "<IPython.core.display.Markdown object>"
      ]
     },
     "metadata": {},
     "output_type": "display_data"
    }
   ],
   "source": [
    "response = get_analysis(prompt1, model)\n",
    "display(to_markdown(response))"
   ]
  }
 ],
 "metadata": {
  "kernelspec": {
   "display_name": "Python 3",
   "language": "python",
   "name": "python3"
  },
  "language_info": {
   "codemirror_mode": {
    "name": "ipython",
    "version": 3
   },
   "file_extension": ".py",
   "mimetype": "text/x-python",
   "name": "python",
   "nbconvert_exporter": "python",
   "pygments_lexer": "ipython3",
   "version": "3.10.9"
  },
  "orig_nbformat": 4,
  "vscode": {
   "interpreter": {
    "hash": "26de051ba29f2982a8de78e945f0abaf191376122a1563185a90213a26c5da77"
   }
  }
 },
 "nbformat": 4,
 "nbformat_minor": 2
}
